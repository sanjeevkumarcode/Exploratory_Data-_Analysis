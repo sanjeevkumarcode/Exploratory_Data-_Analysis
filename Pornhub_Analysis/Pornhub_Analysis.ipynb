{
 "cells": [
  {
   "cell_type": "code",
   "execution_count": 1,
   "id": "9434fe02",
   "metadata": {},
   "outputs": [],
   "source": [
    "import pandas as pd\n",
    "import numpy as np\n",
    "import matplotlib.pyplot as plt\n",
    "%matplotlib inline\n",
    "import seaborn as sns\n",
    "from IPython import get_ipython\n",
    "import warnings\n",
    "warnings.filterwarnings(\"ignore\")"
   ]
  },
  {
   "cell_type": "code",
   "execution_count": 2,
   "id": "9564c177",
   "metadata": {},
   "outputs": [],
   "source": [
    "data = pd.read_csv(r'D:\\tumbzilla_labels.csv')"
   ]
  },
  {
   "cell_type": "code",
   "execution_count": 3,
   "id": "81d75e81",
   "metadata": {},
   "outputs": [
    {
     "data": {
      "text/html": [
       "<div>\n",
       "<style scoped>\n",
       "    .dataframe tbody tr th:only-of-type {\n",
       "        vertical-align: middle;\n",
       "    }\n",
       "\n",
       "    .dataframe tbody tr th {\n",
       "        vertical-align: top;\n",
       "    }\n",
       "\n",
       "    .dataframe thead th {\n",
       "        text-align: right;\n",
       "    }\n",
       "</style>\n",
       "<table border=\"1\" class=\"dataframe\">\n",
       "  <thead>\n",
       "    <tr style=\"text-align: right;\">\n",
       "      <th></th>\n",
       "      <th>Unnamed: 0</th>\n",
       "      <th>img_source</th>\n",
       "      <th>length</th>\n",
       "      <th>nb_views</th>\n",
       "      <th>quality</th>\n",
       "      <th>title</th>\n",
       "      <th>video_link</th>\n",
       "      <th>voting</th>\n",
       "      <th>categories</th>\n",
       "      <th>tags</th>\n",
       "    </tr>\n",
       "  </thead>\n",
       "  <tbody>\n",
       "    <tr>\n",
       "      <th>0</th>\n",
       "      <td>0</td>\n",
       "      <td>http://cdn-d-img.pornhub.com/m=eafT8daaaa/vide...</td>\n",
       "      <td>1583</td>\n",
       "      <td>127450</td>\n",
       "      <td>LOW</td>\n",
       "      <td>Tease then suck</td>\n",
       "      <td>http://thumbzilla.com/video/244ff4e3d92c3bc943...</td>\n",
       "      <td>84</td>\n",
       "      <td>Blowjob</td>\n",
       "      <td>blowjob__oral __fullvideo__strip__tease</td>\n",
       "    </tr>\n",
       "    <tr>\n",
       "      <th>1</th>\n",
       "      <td>1</td>\n",
       "      <td>http://cdn-d-img.pornhub.com/m=eafT8daaaa/vide...</td>\n",
       "      <td>2501</td>\n",
       "      <td>480620</td>\n",
       "      <td>LOW</td>\n",
       "      <td>Two hot chick on one dick</td>\n",
       "      <td>http://thumbzilla.com/video/1f6206a9c0ea20f710...</td>\n",
       "      <td>79</td>\n",
       "      <td>Threesome</td>\n",
       "      <td>oral__blonde__threesome__blowjob__kissing__tig...</td>\n",
       "    </tr>\n",
       "    <tr>\n",
       "      <th>2</th>\n",
       "      <td>2</td>\n",
       "      <td>http://cdn-d-img.pornhub.com/m=eafT8daaaa/vide...</td>\n",
       "      <td>1513</td>\n",
       "      <td>99720</td>\n",
       "      <td>LOW</td>\n",
       "      <td>Chick stretches her pussy and blows for the cam</td>\n",
       "      <td>http://thumbzilla.com/video/384a338ea9e067abe2...</td>\n",
       "      <td>77</td>\n",
       "      <td>Brunette</td>\n",
       "      <td>blowjob__pussy__fingering__oral __fullvideo__s...</td>\n",
       "    </tr>\n",
       "    <tr>\n",
       "      <th>3</th>\n",
       "      <td>3</td>\n",
       "      <td>http://cdn-d-img.pornhub.com/m=eafT8daaaa/vide...</td>\n",
       "      <td>1710</td>\n",
       "      <td>598820</td>\n",
       "      <td>LOW</td>\n",
       "      <td>Fucking my neighbour</td>\n",
       "      <td>http://thumbzilla.com/video/7d7f0f159d8550a233...</td>\n",
       "      <td>80</td>\n",
       "      <td>Blonde__MILF</td>\n",
       "      <td>rubbing__oral__blonde__busty__blowjob__hardcor...</td>\n",
       "    </tr>\n",
       "    <tr>\n",
       "      <th>4</th>\n",
       "      <td>4</td>\n",
       "      <td>http://cdn-d-img.pornhub.com/m=eafT8daaaa/vide...</td>\n",
       "      <td>1694</td>\n",
       "      <td>155850</td>\n",
       "      <td>LOW</td>\n",
       "      <td>Small titted whore sucking a cock for lunch</td>\n",
       "      <td>http://thumbzilla.com/video/cd325329c5da836d29...</td>\n",
       "      <td>79</td>\n",
       "      <td>POV</td>\n",
       "      <td>rubbing__oral__blowjob__fingering__masturbatio...</td>\n",
       "    </tr>\n",
       "    <tr>\n",
       "      <th>...</th>\n",
       "      <td>...</td>\n",
       "      <td>...</td>\n",
       "      <td>...</td>\n",
       "      <td>...</td>\n",
       "      <td>...</td>\n",
       "      <td>...</td>\n",
       "      <td>...</td>\n",
       "      <td>...</td>\n",
       "      <td>...</td>\n",
       "      <td>...</td>\n",
       "    </tr>\n",
       "    <tr>\n",
       "      <th>191527</th>\n",
       "      <td>191527</td>\n",
       "      <td>http://cdn-d-img.pornhub.com/m=eafT8daaaa/vide...</td>\n",
       "      <td>2774</td>\n",
       "      <td>257540</td>\n",
       "      <td>LOW</td>\n",
       "      <td>Czech taxi 39</td>\n",
       "      <td>http://thumbzilla.com/video/ph57f643aa43f50/cz...</td>\n",
       "      <td>75</td>\n",
       "      <td>Public__Double Penetration__Czech</td>\n",
       "      <td>public__euro__czech__car__point-of-view__milf_...</td>\n",
       "    </tr>\n",
       "    <tr>\n",
       "      <th>191528</th>\n",
       "      <td>191528</td>\n",
       "      <td>http://cdn-d-img.pornhub.com/m=eafT8daaaa/vide...</td>\n",
       "      <td>528</td>\n",
       "      <td>73960</td>\n",
       "      <td>LOW</td>\n",
       "      <td>Casanova Holmes - Quality Vintage 1970s XXX</td>\n",
       "      <td>http://thumbzilla.com/video/ph58435e6446b61/ca...</td>\n",
       "      <td>70</td>\n",
       "      <td>For Women __Vintage__Big Dick__Threesome</td>\n",
       "      <td>hairy-armpits__female-friendly __deltaofvenus_...</td>\n",
       "    </tr>\n",
       "    <tr>\n",
       "      <th>191529</th>\n",
       "      <td>191529</td>\n",
       "      <td>http://cdn-d-img.pornhub.com/m=eafT8daaaa/vide...</td>\n",
       "      <td>672</td>\n",
       "      <td>419960</td>\n",
       "      <td>HD</td>\n",
       "      <td>19 Year Old Blonde Fuck in a threesome</td>\n",
       "      <td>http://thumbzilla.com/video/ph56b62d0d40691/19...</td>\n",
       "      <td>74</td>\n",
       "      <td>Babe__Exclusive__Verified Amateurs__HD __Orgy_...</td>\n",
       "      <td>amateur__natural-tits__doggy-style__teen__babe...</td>\n",
       "    </tr>\n",
       "    <tr>\n",
       "      <th>191530</th>\n",
       "      <td>191530</td>\n",
       "      <td>http://cdn-d-img.pornhub.com/m=eafT8daaaa/vide...</td>\n",
       "      <td>535</td>\n",
       "      <td>216150</td>\n",
       "      <td>LOW</td>\n",
       "      <td>Virtual Sex - Anya Ivy</td>\n",
       "      <td>http://thumbzilla.com/video/ph582286c1e062b/vi...</td>\n",
       "      <td>72</td>\n",
       "      <td>Big Tits__POV __Fetish__Pornstar</td>\n",
       "      <td>amateur__natural-tits__teen__teasing__joi__vir...</td>\n",
       "    </tr>\n",
       "    <tr>\n",
       "      <th>191531</th>\n",
       "      <td>191531</td>\n",
       "      <td>http://cdn-d-img.pornhub.com/m=eafT8daaaa/vide...</td>\n",
       "      <td>460</td>\n",
       "      <td>201700</td>\n",
       "      <td>HD</td>\n",
       "      <td>Brazzers - Ebony teen Peyton Sweet loves white...</td>\n",
       "      <td>http://thumbzilla.com/video/ph582ccb3fba0d5/br...</td>\n",
       "      <td>74</td>\n",
       "      <td>Big Ass__HD __Hardcore__Teen</td>\n",
       "      <td>heels__teen__brazzers__black__young__pounded__...</td>\n",
       "    </tr>\n",
       "  </tbody>\n",
       "</table>\n",
       "<p>191532 rows × 10 columns</p>\n",
       "</div>"
      ],
      "text/plain": [
       "        Unnamed: 0                                         img_source  length  \\\n",
       "0                0  http://cdn-d-img.pornhub.com/m=eafT8daaaa/vide...    1583   \n",
       "1                1  http://cdn-d-img.pornhub.com/m=eafT8daaaa/vide...    2501   \n",
       "2                2  http://cdn-d-img.pornhub.com/m=eafT8daaaa/vide...    1513   \n",
       "3                3  http://cdn-d-img.pornhub.com/m=eafT8daaaa/vide...    1710   \n",
       "4                4  http://cdn-d-img.pornhub.com/m=eafT8daaaa/vide...    1694   \n",
       "...            ...                                                ...     ...   \n",
       "191527      191527  http://cdn-d-img.pornhub.com/m=eafT8daaaa/vide...    2774   \n",
       "191528      191528  http://cdn-d-img.pornhub.com/m=eafT8daaaa/vide...     528   \n",
       "191529      191529  http://cdn-d-img.pornhub.com/m=eafT8daaaa/vide...     672   \n",
       "191530      191530  http://cdn-d-img.pornhub.com/m=eafT8daaaa/vide...     535   \n",
       "191531      191531  http://cdn-d-img.pornhub.com/m=eafT8daaaa/vide...     460   \n",
       "\n",
       "        nb_views quality                                              title  \\\n",
       "0         127450     LOW                                    Tease then suck   \n",
       "1         480620     LOW                          Two hot chick on one dick   \n",
       "2          99720     LOW    Chick stretches her pussy and blows for the cam   \n",
       "3         598820     LOW                               Fucking my neighbour   \n",
       "4         155850     LOW        Small titted whore sucking a cock for lunch   \n",
       "...          ...     ...                                                ...   \n",
       "191527    257540     LOW                                      Czech taxi 39   \n",
       "191528     73960     LOW        Casanova Holmes - Quality Vintage 1970s XXX   \n",
       "191529    419960      HD             19 Year Old Blonde Fuck in a threesome   \n",
       "191530    216150     LOW                             Virtual Sex - Anya Ivy   \n",
       "191531    201700      HD  Brazzers - Ebony teen Peyton Sweet loves white...   \n",
       "\n",
       "                                               video_link  voting  \\\n",
       "0       http://thumbzilla.com/video/244ff4e3d92c3bc943...      84   \n",
       "1       http://thumbzilla.com/video/1f6206a9c0ea20f710...      79   \n",
       "2       http://thumbzilla.com/video/384a338ea9e067abe2...      77   \n",
       "3       http://thumbzilla.com/video/7d7f0f159d8550a233...      80   \n",
       "4       http://thumbzilla.com/video/cd325329c5da836d29...      79   \n",
       "...                                                   ...     ...   \n",
       "191527  http://thumbzilla.com/video/ph57f643aa43f50/cz...      75   \n",
       "191528  http://thumbzilla.com/video/ph58435e6446b61/ca...      70   \n",
       "191529  http://thumbzilla.com/video/ph56b62d0d40691/19...      74   \n",
       "191530  http://thumbzilla.com/video/ph582286c1e062b/vi...      72   \n",
       "191531  http://thumbzilla.com/video/ph582ccb3fba0d5/br...      74   \n",
       "\n",
       "                                               categories  \\\n",
       "0                                                 Blowjob   \n",
       "1                                              Threesome    \n",
       "2                                                Brunette   \n",
       "3                                           Blonde__MILF    \n",
       "4                                                    POV    \n",
       "...                                                   ...   \n",
       "191527                 Public__Double Penetration__Czech    \n",
       "191528           For Women __Vintage__Big Dick__Threesome   \n",
       "191529  Babe__Exclusive__Verified Amateurs__HD __Orgy_...   \n",
       "191530                   Big Tits__POV __Fetish__Pornstar   \n",
       "191531                       Big Ass__HD __Hardcore__Teen   \n",
       "\n",
       "                                                     tags  \n",
       "0                 blowjob__oral __fullvideo__strip__tease  \n",
       "1       oral__blonde__threesome__blowjob__kissing__tig...  \n",
       "2       blowjob__pussy__fingering__oral __fullvideo__s...  \n",
       "3       rubbing__oral__blonde__busty__blowjob__hardcor...  \n",
       "4       rubbing__oral__blowjob__fingering__masturbatio...  \n",
       "...                                                   ...  \n",
       "191527  public__euro__czech__car__point-of-view__milf_...  \n",
       "191528  hairy-armpits__female-friendly __deltaofvenus_...  \n",
       "191529  amateur__natural-tits__doggy-style__teen__babe...  \n",
       "191530  amateur__natural-tits__teen__teasing__joi__vir...  \n",
       "191531  heels__teen__brazzers__black__young__pounded__...  \n",
       "\n",
       "[191532 rows x 10 columns]"
      ]
     },
     "execution_count": 3,
     "metadata": {},
     "output_type": "execute_result"
    }
   ],
   "source": [
    "data"
   ]
  },
  {
   "cell_type": "code",
   "execution_count": 4,
   "id": "44666380",
   "metadata": {},
   "outputs": [
    {
     "data": {
      "text/html": [
       "<div>\n",
       "<style scoped>\n",
       "    .dataframe tbody tr th:only-of-type {\n",
       "        vertical-align: middle;\n",
       "    }\n",
       "\n",
       "    .dataframe tbody tr th {\n",
       "        vertical-align: top;\n",
       "    }\n",
       "\n",
       "    .dataframe thead th {\n",
       "        text-align: right;\n",
       "    }\n",
       "</style>\n",
       "<table border=\"1\" class=\"dataframe\">\n",
       "  <thead>\n",
       "    <tr style=\"text-align: right;\">\n",
       "      <th></th>\n",
       "      <th>Unnamed: 0</th>\n",
       "      <th>img_source</th>\n",
       "      <th>length</th>\n",
       "      <th>nb_views</th>\n",
       "      <th>quality</th>\n",
       "      <th>title</th>\n",
       "      <th>video_link</th>\n",
       "      <th>voting</th>\n",
       "      <th>categories</th>\n",
       "      <th>tags</th>\n",
       "    </tr>\n",
       "  </thead>\n",
       "  <tbody>\n",
       "    <tr>\n",
       "      <th>0</th>\n",
       "      <td>0</td>\n",
       "      <td>http://cdn-d-img.pornhub.com/m=eafT8daaaa/vide...</td>\n",
       "      <td>1583</td>\n",
       "      <td>127450</td>\n",
       "      <td>LOW</td>\n",
       "      <td>Tease then suck</td>\n",
       "      <td>http://thumbzilla.com/video/244ff4e3d92c3bc943...</td>\n",
       "      <td>84</td>\n",
       "      <td>Blowjob</td>\n",
       "      <td>blowjob__oral __fullvideo__strip__tease</td>\n",
       "    </tr>\n",
       "    <tr>\n",
       "      <th>1</th>\n",
       "      <td>1</td>\n",
       "      <td>http://cdn-d-img.pornhub.com/m=eafT8daaaa/vide...</td>\n",
       "      <td>2501</td>\n",
       "      <td>480620</td>\n",
       "      <td>LOW</td>\n",
       "      <td>Two hot chick on one dick</td>\n",
       "      <td>http://thumbzilla.com/video/1f6206a9c0ea20f710...</td>\n",
       "      <td>79</td>\n",
       "      <td>Threesome</td>\n",
       "      <td>oral__blonde__threesome__blowjob__kissing__tig...</td>\n",
       "    </tr>\n",
       "    <tr>\n",
       "      <th>2</th>\n",
       "      <td>2</td>\n",
       "      <td>http://cdn-d-img.pornhub.com/m=eafT8daaaa/vide...</td>\n",
       "      <td>1513</td>\n",
       "      <td>99720</td>\n",
       "      <td>LOW</td>\n",
       "      <td>Chick stretches her pussy and blows for the cam</td>\n",
       "      <td>http://thumbzilla.com/video/384a338ea9e067abe2...</td>\n",
       "      <td>77</td>\n",
       "      <td>Brunette</td>\n",
       "      <td>blowjob__pussy__fingering__oral __fullvideo__s...</td>\n",
       "    </tr>\n",
       "    <tr>\n",
       "      <th>3</th>\n",
       "      <td>3</td>\n",
       "      <td>http://cdn-d-img.pornhub.com/m=eafT8daaaa/vide...</td>\n",
       "      <td>1710</td>\n",
       "      <td>598820</td>\n",
       "      <td>LOW</td>\n",
       "      <td>Fucking my neighbour</td>\n",
       "      <td>http://thumbzilla.com/video/7d7f0f159d8550a233...</td>\n",
       "      <td>80</td>\n",
       "      <td>Blonde__MILF</td>\n",
       "      <td>rubbing__oral__blonde__busty__blowjob__hardcor...</td>\n",
       "    </tr>\n",
       "    <tr>\n",
       "      <th>4</th>\n",
       "      <td>4</td>\n",
       "      <td>http://cdn-d-img.pornhub.com/m=eafT8daaaa/vide...</td>\n",
       "      <td>1694</td>\n",
       "      <td>155850</td>\n",
       "      <td>LOW</td>\n",
       "      <td>Small titted whore sucking a cock for lunch</td>\n",
       "      <td>http://thumbzilla.com/video/cd325329c5da836d29...</td>\n",
       "      <td>79</td>\n",
       "      <td>POV</td>\n",
       "      <td>rubbing__oral__blowjob__fingering__masturbatio...</td>\n",
       "    </tr>\n",
       "    <tr>\n",
       "      <th>5</th>\n",
       "      <td>5</td>\n",
       "      <td>http://cdn-d-img.pornhub.com/m=eafT8daaaa/vide...</td>\n",
       "      <td>2452</td>\n",
       "      <td>737430</td>\n",
       "      <td>LOW</td>\n",
       "      <td>Getting ready to fuck</td>\n",
       "      <td>http://thumbzilla.com/video/1c67a8495f89c912f1...</td>\n",
       "      <td>86</td>\n",
       "      <td>Hardcore __Big Tits</td>\n",
       "      <td>riding__blonde__facial __blowjob__hardcore__we...</td>\n",
       "    </tr>\n",
       "    <tr>\n",
       "      <th>6</th>\n",
       "      <td>6</td>\n",
       "      <td>http://cdn-d-img.pornhub.com/m=eafT8daaaa/vide...</td>\n",
       "      <td>1158</td>\n",
       "      <td>146450</td>\n",
       "      <td>LOW</td>\n",
       "      <td>What a game!</td>\n",
       "      <td>http://thumbzilla.com/video/50f36526236841ebe4...</td>\n",
       "      <td>78</td>\n",
       "      <td>POV</td>\n",
       "      <td>blowjob__cumshot__pov__babe__natural __brunett...</td>\n",
       "    </tr>\n",
       "    <tr>\n",
       "      <th>7</th>\n",
       "      <td>7</td>\n",
       "      <td>http://cdn-d-img.pornhub.com/m=eafT8daaaa/vide...</td>\n",
       "      <td>1566</td>\n",
       "      <td>3740000</td>\n",
       "      <td>LOW</td>\n",
       "      <td>Small dick blown by hot ebony</td>\n",
       "      <td>http://thumbzilla.com/video/257f8ed8bf3d419058...</td>\n",
       "      <td>82</td>\n",
       "      <td>Pornstar __Ebony__Big Tits</td>\n",
       "      <td>oral__blowjob__ebony__cumshot__pov__facial__ti...</td>\n",
       "    </tr>\n",
       "    <tr>\n",
       "      <th>8</th>\n",
       "      <td>8</td>\n",
       "      <td>http://cdn-d-img.pornhub.com/m=eafT8daaaa/vide...</td>\n",
       "      <td>1362</td>\n",
       "      <td>254270</td>\n",
       "      <td>LOW</td>\n",
       "      <td>Horny blonde slut tasting his cock</td>\n",
       "      <td>http://thumbzilla.com/video/faee4916e745f686a4...</td>\n",
       "      <td>86</td>\n",
       "      <td>Babe__Blowjob</td>\n",
       "      <td>oral__blonde__busty__blowjob__titfuck__titsfuc...</td>\n",
       "    </tr>\n",
       "    <tr>\n",
       "      <th>9</th>\n",
       "      <td>9</td>\n",
       "      <td>http://cdn-d-img.pornhub.com/m=eafT8daaaa/vide...</td>\n",
       "      <td>1184</td>\n",
       "      <td>208290</td>\n",
       "      <td>LOW</td>\n",
       "      <td>Hot babe strips and masturbates on the couch-2</td>\n",
       "      <td>http://thumbzilla.com/video/f53f8c59fa4c569050...</td>\n",
       "      <td>85</td>\n",
       "      <td>Babe__Blowjob</td>\n",
       "      <td>oral__facial __blowjob__cumshot__babe__brunett...</td>\n",
       "    </tr>\n",
       "  </tbody>\n",
       "</table>\n",
       "</div>"
      ],
      "text/plain": [
       "   Unnamed: 0                                         img_source  length  \\\n",
       "0           0  http://cdn-d-img.pornhub.com/m=eafT8daaaa/vide...    1583   \n",
       "1           1  http://cdn-d-img.pornhub.com/m=eafT8daaaa/vide...    2501   \n",
       "2           2  http://cdn-d-img.pornhub.com/m=eafT8daaaa/vide...    1513   \n",
       "3           3  http://cdn-d-img.pornhub.com/m=eafT8daaaa/vide...    1710   \n",
       "4           4  http://cdn-d-img.pornhub.com/m=eafT8daaaa/vide...    1694   \n",
       "5           5  http://cdn-d-img.pornhub.com/m=eafT8daaaa/vide...    2452   \n",
       "6           6  http://cdn-d-img.pornhub.com/m=eafT8daaaa/vide...    1158   \n",
       "7           7  http://cdn-d-img.pornhub.com/m=eafT8daaaa/vide...    1566   \n",
       "8           8  http://cdn-d-img.pornhub.com/m=eafT8daaaa/vide...    1362   \n",
       "9           9  http://cdn-d-img.pornhub.com/m=eafT8daaaa/vide...    1184   \n",
       "\n",
       "   nb_views quality                                            title  \\\n",
       "0    127450     LOW                                  Tease then suck   \n",
       "1    480620     LOW                        Two hot chick on one dick   \n",
       "2     99720     LOW  Chick stretches her pussy and blows for the cam   \n",
       "3    598820     LOW                             Fucking my neighbour   \n",
       "4    155850     LOW      Small titted whore sucking a cock for lunch   \n",
       "5    737430     LOW                            Getting ready to fuck   \n",
       "6    146450     LOW                                     What a game!   \n",
       "7   3740000     LOW                    Small dick blown by hot ebony   \n",
       "8    254270     LOW               Horny blonde slut tasting his cock   \n",
       "9    208290     LOW   Hot babe strips and masturbates on the couch-2   \n",
       "\n",
       "                                          video_link  voting  \\\n",
       "0  http://thumbzilla.com/video/244ff4e3d92c3bc943...      84   \n",
       "1  http://thumbzilla.com/video/1f6206a9c0ea20f710...      79   \n",
       "2  http://thumbzilla.com/video/384a338ea9e067abe2...      77   \n",
       "3  http://thumbzilla.com/video/7d7f0f159d8550a233...      80   \n",
       "4  http://thumbzilla.com/video/cd325329c5da836d29...      79   \n",
       "5  http://thumbzilla.com/video/1c67a8495f89c912f1...      86   \n",
       "6  http://thumbzilla.com/video/50f36526236841ebe4...      78   \n",
       "7  http://thumbzilla.com/video/257f8ed8bf3d419058...      82   \n",
       "8  http://thumbzilla.com/video/faee4916e745f686a4...      86   \n",
       "9  http://thumbzilla.com/video/f53f8c59fa4c569050...      85   \n",
       "\n",
       "                   categories  \\\n",
       "0                     Blowjob   \n",
       "1                  Threesome    \n",
       "2                    Brunette   \n",
       "3               Blonde__MILF    \n",
       "4                        POV    \n",
       "5         Hardcore __Big Tits   \n",
       "6                        POV    \n",
       "7  Pornstar __Ebony__Big Tits   \n",
       "8              Babe__Blowjob    \n",
       "9              Babe__Blowjob    \n",
       "\n",
       "                                                tags  \n",
       "0            blowjob__oral __fullvideo__strip__tease  \n",
       "1  oral__blonde__threesome__blowjob__kissing__tig...  \n",
       "2  blowjob__pussy__fingering__oral __fullvideo__s...  \n",
       "3  rubbing__oral__blonde__busty__blowjob__hardcor...  \n",
       "4  rubbing__oral__blowjob__fingering__masturbatio...  \n",
       "5  riding__blonde__facial __blowjob__hardcore__we...  \n",
       "6  blowjob__cumshot__pov__babe__natural __brunett...  \n",
       "7  oral__blowjob__ebony__cumshot__pov__facial__ti...  \n",
       "8  oral__blonde__busty__blowjob__titfuck__titsfuc...  \n",
       "9  oral__facial __blowjob__cumshot__babe__brunett...  "
      ]
     },
     "execution_count": 4,
     "metadata": {},
     "output_type": "execute_result"
    }
   ],
   "source": [
    "data.head(10)"
   ]
  },
  {
   "cell_type": "code",
   "execution_count": 5,
   "id": "4f800614",
   "metadata": {},
   "outputs": [
    {
     "data": {
      "text/html": [
       "<div>\n",
       "<style scoped>\n",
       "    .dataframe tbody tr th:only-of-type {\n",
       "        vertical-align: middle;\n",
       "    }\n",
       "\n",
       "    .dataframe tbody tr th {\n",
       "        vertical-align: top;\n",
       "    }\n",
       "\n",
       "    .dataframe thead th {\n",
       "        text-align: right;\n",
       "    }\n",
       "</style>\n",
       "<table border=\"1\" class=\"dataframe\">\n",
       "  <thead>\n",
       "    <tr style=\"text-align: right;\">\n",
       "      <th></th>\n",
       "      <th>Unnamed: 0</th>\n",
       "      <th>img_source</th>\n",
       "      <th>length</th>\n",
       "      <th>nb_views</th>\n",
       "      <th>quality</th>\n",
       "      <th>title</th>\n",
       "      <th>video_link</th>\n",
       "      <th>voting</th>\n",
       "      <th>categories</th>\n",
       "      <th>tags</th>\n",
       "    </tr>\n",
       "  </thead>\n",
       "  <tbody>\n",
       "    <tr>\n",
       "      <th>191527</th>\n",
       "      <td>191527</td>\n",
       "      <td>http://cdn-d-img.pornhub.com/m=eafT8daaaa/vide...</td>\n",
       "      <td>2774</td>\n",
       "      <td>257540</td>\n",
       "      <td>LOW</td>\n",
       "      <td>Czech taxi 39</td>\n",
       "      <td>http://thumbzilla.com/video/ph57f643aa43f50/cz...</td>\n",
       "      <td>75</td>\n",
       "      <td>Public__Double Penetration__Czech</td>\n",
       "      <td>public__euro__czech__car__point-of-view__milf_...</td>\n",
       "    </tr>\n",
       "    <tr>\n",
       "      <th>191528</th>\n",
       "      <td>191528</td>\n",
       "      <td>http://cdn-d-img.pornhub.com/m=eafT8daaaa/vide...</td>\n",
       "      <td>528</td>\n",
       "      <td>73960</td>\n",
       "      <td>LOW</td>\n",
       "      <td>Casanova Holmes - Quality Vintage 1970s XXX</td>\n",
       "      <td>http://thumbzilla.com/video/ph58435e6446b61/ca...</td>\n",
       "      <td>70</td>\n",
       "      <td>For Women __Vintage__Big Dick__Threesome</td>\n",
       "      <td>hairy-armpits__female-friendly __deltaofvenus_...</td>\n",
       "    </tr>\n",
       "    <tr>\n",
       "      <th>191529</th>\n",
       "      <td>191529</td>\n",
       "      <td>http://cdn-d-img.pornhub.com/m=eafT8daaaa/vide...</td>\n",
       "      <td>672</td>\n",
       "      <td>419960</td>\n",
       "      <td>HD</td>\n",
       "      <td>19 Year Old Blonde Fuck in a threesome</td>\n",
       "      <td>http://thumbzilla.com/video/ph56b62d0d40691/19...</td>\n",
       "      <td>74</td>\n",
       "      <td>Babe__Exclusive__Verified Amateurs__HD __Orgy_...</td>\n",
       "      <td>amateur__natural-tits__doggy-style__teen__babe...</td>\n",
       "    </tr>\n",
       "    <tr>\n",
       "      <th>191530</th>\n",
       "      <td>191530</td>\n",
       "      <td>http://cdn-d-img.pornhub.com/m=eafT8daaaa/vide...</td>\n",
       "      <td>535</td>\n",
       "      <td>216150</td>\n",
       "      <td>LOW</td>\n",
       "      <td>Virtual Sex - Anya Ivy</td>\n",
       "      <td>http://thumbzilla.com/video/ph582286c1e062b/vi...</td>\n",
       "      <td>72</td>\n",
       "      <td>Big Tits__POV __Fetish__Pornstar</td>\n",
       "      <td>amateur__natural-tits__teen__teasing__joi__vir...</td>\n",
       "    </tr>\n",
       "    <tr>\n",
       "      <th>191531</th>\n",
       "      <td>191531</td>\n",
       "      <td>http://cdn-d-img.pornhub.com/m=eafT8daaaa/vide...</td>\n",
       "      <td>460</td>\n",
       "      <td>201700</td>\n",
       "      <td>HD</td>\n",
       "      <td>Brazzers - Ebony teen Peyton Sweet loves white...</td>\n",
       "      <td>http://thumbzilla.com/video/ph582ccb3fba0d5/br...</td>\n",
       "      <td>74</td>\n",
       "      <td>Big Ass__HD __Hardcore__Teen</td>\n",
       "      <td>heels__teen__brazzers__black__young__pounded__...</td>\n",
       "    </tr>\n",
       "  </tbody>\n",
       "</table>\n",
       "</div>"
      ],
      "text/plain": [
       "        Unnamed: 0                                         img_source  length  \\\n",
       "191527      191527  http://cdn-d-img.pornhub.com/m=eafT8daaaa/vide...    2774   \n",
       "191528      191528  http://cdn-d-img.pornhub.com/m=eafT8daaaa/vide...     528   \n",
       "191529      191529  http://cdn-d-img.pornhub.com/m=eafT8daaaa/vide...     672   \n",
       "191530      191530  http://cdn-d-img.pornhub.com/m=eafT8daaaa/vide...     535   \n",
       "191531      191531  http://cdn-d-img.pornhub.com/m=eafT8daaaa/vide...     460   \n",
       "\n",
       "        nb_views quality                                              title  \\\n",
       "191527    257540     LOW                                      Czech taxi 39   \n",
       "191528     73960     LOW        Casanova Holmes - Quality Vintage 1970s XXX   \n",
       "191529    419960      HD             19 Year Old Blonde Fuck in a threesome   \n",
       "191530    216150     LOW                             Virtual Sex - Anya Ivy   \n",
       "191531    201700      HD  Brazzers - Ebony teen Peyton Sweet loves white...   \n",
       "\n",
       "                                               video_link  voting  \\\n",
       "191527  http://thumbzilla.com/video/ph57f643aa43f50/cz...      75   \n",
       "191528  http://thumbzilla.com/video/ph58435e6446b61/ca...      70   \n",
       "191529  http://thumbzilla.com/video/ph56b62d0d40691/19...      74   \n",
       "191530  http://thumbzilla.com/video/ph582286c1e062b/vi...      72   \n",
       "191531  http://thumbzilla.com/video/ph582ccb3fba0d5/br...      74   \n",
       "\n",
       "                                               categories  \\\n",
       "191527                 Public__Double Penetration__Czech    \n",
       "191528           For Women __Vintage__Big Dick__Threesome   \n",
       "191529  Babe__Exclusive__Verified Amateurs__HD __Orgy_...   \n",
       "191530                   Big Tits__POV __Fetish__Pornstar   \n",
       "191531                       Big Ass__HD __Hardcore__Teen   \n",
       "\n",
       "                                                     tags  \n",
       "191527  public__euro__czech__car__point-of-view__milf_...  \n",
       "191528  hairy-armpits__female-friendly __deltaofvenus_...  \n",
       "191529  amateur__natural-tits__doggy-style__teen__babe...  \n",
       "191530  amateur__natural-tits__teen__teasing__joi__vir...  \n",
       "191531  heels__teen__brazzers__black__young__pounded__...  "
      ]
     },
     "execution_count": 5,
     "metadata": {},
     "output_type": "execute_result"
    }
   ],
   "source": [
    "data.tail()"
   ]
  },
  {
   "cell_type": "code",
   "execution_count": 6,
   "id": "fddb8b23",
   "metadata": {},
   "outputs": [
    {
     "data": {
      "text/plain": [
       "(191532, 10)"
      ]
     },
     "execution_count": 6,
     "metadata": {},
     "output_type": "execute_result"
    }
   ],
   "source": [
    "data.shape"
   ]
  },
  {
   "cell_type": "code",
   "execution_count": 7,
   "id": "e2a894ad",
   "metadata": {},
   "outputs": [
    {
     "data": {
      "text/plain": [
       "Index(['Unnamed: 0', 'img_source', 'length', 'nb_views', 'quality', 'title',\n",
       "       'video_link', 'voting', 'categories', 'tags'],\n",
       "      dtype='object')"
      ]
     },
     "execution_count": 7,
     "metadata": {},
     "output_type": "execute_result"
    }
   ],
   "source": [
    "data.columns"
   ]
  },
  {
   "cell_type": "code",
   "execution_count": 8,
   "id": "6a974148",
   "metadata": {},
   "outputs": [],
   "source": [
    "data=data.drop('Unnamed: 0' ,axis=1)"
   ]
  },
  {
   "cell_type": "code",
   "execution_count": 9,
   "id": "75310d08",
   "metadata": {},
   "outputs": [
    {
     "data": {
      "text/plain": [
       "Index(['img_source', 'length', 'nb_views', 'quality', 'title', 'video_link',\n",
       "       'voting', 'categories', 'tags'],\n",
       "      dtype='object')"
      ]
     },
     "execution_count": 9,
     "metadata": {},
     "output_type": "execute_result"
    }
   ],
   "source": [
    "data.columns"
   ]
  },
  {
   "cell_type": "code",
   "execution_count": 10,
   "id": "2e1360ed",
   "metadata": {},
   "outputs": [
    {
     "data": {
      "text/plain": [
       "6"
      ]
     },
     "execution_count": 10,
     "metadata": {},
     "output_type": "execute_result"
    }
   ],
   "source": [
    "data.duplicated().sum()"
   ]
  },
  {
   "cell_type": "code",
   "execution_count": 11,
   "id": "d1d1bfe7",
   "metadata": {},
   "outputs": [
    {
     "data": {
      "text/plain": [
       "0         False\n",
       "1         False\n",
       "2         False\n",
       "3         False\n",
       "4         False\n",
       "          ...  \n",
       "191527    False\n",
       "191528    False\n",
       "191529    False\n",
       "191530    False\n",
       "191531    False\n",
       "Length: 191532, dtype: bool"
      ]
     },
     "execution_count": 11,
     "metadata": {},
     "output_type": "execute_result"
    }
   ],
   "source": [
    "data.duplicated()"
   ]
  },
  {
   "cell_type": "code",
   "execution_count": 12,
   "id": "66c9c7ff",
   "metadata": {},
   "outputs": [],
   "source": [
    "data= data.drop_duplicates()"
   ]
  },
  {
   "cell_type": "code",
   "execution_count": 13,
   "id": "d220075e",
   "metadata": {},
   "outputs": [
    {
     "data": {
      "text/plain": [
       "img_source      0\n",
       "length          0\n",
       "nb_views        0\n",
       "quality         0\n",
       "title           0\n",
       "video_link      0\n",
       "voting          0\n",
       "categories    353\n",
       "tags          353\n",
       "dtype: int64"
      ]
     },
     "execution_count": 13,
     "metadata": {},
     "output_type": "execute_result"
    }
   ],
   "source": [
    "data.isnull().sum()"
   ]
  },
  {
   "cell_type": "code",
   "execution_count": 14,
   "id": "e8da51e9",
   "metadata": {},
   "outputs": [
    {
     "data": {
      "text/plain": [
       "0"
      ]
     },
     "execution_count": 14,
     "metadata": {},
     "output_type": "execute_result"
    }
   ],
   "source": [
    "data.duplicated().sum()"
   ]
  },
  {
   "cell_type": "code",
   "execution_count": 15,
   "id": "6f5a1488",
   "metadata": {},
   "outputs": [],
   "source": [
    "data = data.dropna()"
   ]
  },
  {
   "cell_type": "code",
   "execution_count": 16,
   "id": "caa487f1",
   "metadata": {},
   "outputs": [
    {
     "name": "stdout",
     "output_type": "stream",
     "text": [
      "<class 'pandas.core.frame.DataFrame'>\n",
      "Int64Index: 191173 entries, 0 to 191531\n",
      "Data columns (total 9 columns):\n",
      " #   Column      Non-Null Count   Dtype \n",
      "---  ------      --------------   ----- \n",
      " 0   img_source  191173 non-null  object\n",
      " 1   length      191173 non-null  int64 \n",
      " 2   nb_views    191173 non-null  int64 \n",
      " 3   quality     191173 non-null  object\n",
      " 4   title       191173 non-null  object\n",
      " 5   video_link  191173 non-null  object\n",
      " 6   voting      191173 non-null  int64 \n",
      " 7   categories  191173 non-null  object\n",
      " 8   tags        191173 non-null  object\n",
      "dtypes: int64(3), object(6)\n",
      "memory usage: 14.6+ MB\n"
     ]
    }
   ],
   "source": [
    "data.info()"
   ]
  },
  {
   "cell_type": "code",
   "execution_count": 17,
   "id": "2f2861a4",
   "metadata": {},
   "outputs": [
    {
     "data": {
      "text/html": [
       "<div>\n",
       "<style scoped>\n",
       "    .dataframe tbody tr th:only-of-type {\n",
       "        vertical-align: middle;\n",
       "    }\n",
       "\n",
       "    .dataframe tbody tr th {\n",
       "        vertical-align: top;\n",
       "    }\n",
       "\n",
       "    .dataframe thead th {\n",
       "        text-align: right;\n",
       "    }\n",
       "</style>\n",
       "<table border=\"1\" class=\"dataframe\">\n",
       "  <thead>\n",
       "    <tr style=\"text-align: right;\">\n",
       "      <th></th>\n",
       "      <th>length</th>\n",
       "      <th>nb_views</th>\n",
       "      <th>voting</th>\n",
       "    </tr>\n",
       "  </thead>\n",
       "  <tbody>\n",
       "    <tr>\n",
       "      <th>count</th>\n",
       "      <td>1.911730e+05</td>\n",
       "      <td>1.911730e+05</td>\n",
       "      <td>191173.000000</td>\n",
       "    </tr>\n",
       "    <tr>\n",
       "      <th>mean</th>\n",
       "      <td>8.395711e+02</td>\n",
       "      <td>4.174042e+05</td>\n",
       "      <td>77.478933</td>\n",
       "    </tr>\n",
       "    <tr>\n",
       "      <th>std</th>\n",
       "      <td>2.895393e+03</td>\n",
       "      <td>1.037438e+06</td>\n",
       "      <td>6.609911</td>\n",
       "    </tr>\n",
       "    <tr>\n",
       "      <th>min</th>\n",
       "      <td>5.000000e+00</td>\n",
       "      <td>1.020000e+03</td>\n",
       "      <td>36.000000</td>\n",
       "    </tr>\n",
       "    <tr>\n",
       "      <th>25%</th>\n",
       "      <td>3.750000e+02</td>\n",
       "      <td>8.527000e+04</td>\n",
       "      <td>73.000000</td>\n",
       "    </tr>\n",
       "    <tr>\n",
       "      <th>50%</th>\n",
       "      <td>6.010000e+02</td>\n",
       "      <td>1.723500e+05</td>\n",
       "      <td>78.000000</td>\n",
       "    </tr>\n",
       "    <tr>\n",
       "      <th>75%</th>\n",
       "      <td>1.065000e+03</td>\n",
       "      <td>3.817400e+05</td>\n",
       "      <td>82.000000</td>\n",
       "    </tr>\n",
       "    <tr>\n",
       "      <th>max</th>\n",
       "      <td>1.218521e+06</td>\n",
       "      <td>1.134600e+08</td>\n",
       "      <td>95.000000</td>\n",
       "    </tr>\n",
       "  </tbody>\n",
       "</table>\n",
       "</div>"
      ],
      "text/plain": [
       "             length      nb_views         voting\n",
       "count  1.911730e+05  1.911730e+05  191173.000000\n",
       "mean   8.395711e+02  4.174042e+05      77.478933\n",
       "std    2.895393e+03  1.037438e+06       6.609911\n",
       "min    5.000000e+00  1.020000e+03      36.000000\n",
       "25%    3.750000e+02  8.527000e+04      73.000000\n",
       "50%    6.010000e+02  1.723500e+05      78.000000\n",
       "75%    1.065000e+03  3.817400e+05      82.000000\n",
       "max    1.218521e+06  1.134600e+08      95.000000"
      ]
     },
     "execution_count": 17,
     "metadata": {},
     "output_type": "execute_result"
    }
   ],
   "source": [
    "data.describe()"
   ]
  },
  {
   "cell_type": "code",
   "execution_count": 18,
   "id": "57450818",
   "metadata": {},
   "outputs": [
    {
     "data": {
      "text/plain": [
       "img_source    191168\n",
       "length          5054\n",
       "nb_views       59211\n",
       "quality            2\n",
       "title         187859\n",
       "video_link    191168\n",
       "voting            43\n",
       "categories     59116\n",
       "tags          187958\n",
       "dtype: int64"
      ]
     },
     "execution_count": 18,
     "metadata": {},
     "output_type": "execute_result"
    }
   ],
   "source": [
    "data.nunique()"
   ]
  },
  {
   "cell_type": "code",
   "execution_count": 19,
   "id": "fee8e407",
   "metadata": {},
   "outputs": [
    {
     "data": {
      "text/plain": [
       "<bound method Series.unique of 0         LOW\n",
       "1         LOW\n",
       "2         LOW\n",
       "3         LOW\n",
       "4         LOW\n",
       "         ... \n",
       "191527    LOW\n",
       "191528    LOW\n",
       "191529     HD\n",
       "191530    LOW\n",
       "191531     HD\n",
       "Name: quality, Length: 191173, dtype: object>"
      ]
     },
     "execution_count": 19,
     "metadata": {},
     "output_type": "execute_result"
    }
   ],
   "source": [
    "data['quality'].unique"
   ]
  },
  {
   "cell_type": "code",
   "execution_count": 20,
   "id": "528bcc58",
   "metadata": {},
   "outputs": [
    {
     "data": {
      "text/plain": [
       "LOW    123102\n",
       "HD      68071\n",
       "Name: quality, dtype: int64"
      ]
     },
     "execution_count": 20,
     "metadata": {},
     "output_type": "execute_result"
    }
   ],
   "source": [
    "data['quality'].value_counts()"
   ]
  },
  {
   "cell_type": "code",
   "execution_count": 21,
   "id": "7b83fa0c",
   "metadata": {},
   "outputs": [
    {
     "data": {
      "image/png": "[encoded data removed]",
      "text/plain": [
       "<Figure size 1080x432 with 1 Axes>"
      ]
     },
     "metadata": {
      "needs_background": "light"
     },
     "output_type": "display_data"
    }
   ],
   "source": [
    "plt.figure(figsize=(15,6))\n",
    "sns.countplot('quality', data=data, palette='hls')\n",
    "plt.xticks(rotation=90)\n",
    "plt.show()"
   ]
  },
  {
   "cell_type": "code",
   "execution_count": 22,
   "id": "8e032250",
   "metadata": {},
   "outputs": [
    {
     "data": {
      "image/png": "[encoded data removed]",
      "text/plain": [
       "<Figure size 1080x432 with 1 Axes>"
      ]
     },
     "metadata": {},
     "output_type": "display_data"
    }
   ],
   "source": [
    "plt.figure(figsize=(15,6))\n",
    "labels = 'LOW', 'HD'\n",
    "colors = ['gold', 'yellowgreen']\n",
    "explode = (0.1, 0)\n",
    "plt.pie(data['quality'].value_counts(), explode=explode, labels=labels, colors=colors,\n",
    "autopct='%1.1f%%', shadow=True, startangle=140)\n",
    "plt.axis('equal')\n",
    "plt.show()"
   ]
  },
  {
   "cell_type": "code",
   "execution_count": 23,
   "id": "62ecd7ef",
   "metadata": {},
   "outputs": [
    {
     "data": {
      "text/plain": [
       "16                    Hot asian girl in an interracial fuck\n",
       "26                            Sexual pleasure from machines\n",
       "35        Brunette with nice boobs gets a facial and lov...\n",
       "47                                Cat likes back door entry\n",
       "54            Passion-HD Horny Art Teacher Has Sexy Weekend\n",
       "                                ...                        \n",
       "191471    Asian hottie Tina Lee gets her face splattered...\n",
       "191484    Chihiro Misaki endures hard cocks in each of h...\n",
       "191501                 Interracial Anal Sex For White Wifey\n",
       "191511             DarkX Elsa Jean Rides MASSIVE Black Cock\n",
       "191520    TeenyBlack - Delicious Ebony Babe Fucked In 1s...\n",
       "Name: title, Length: 20981, dtype: object"
      ]
     },
     "execution_count": 23,
     "metadata": {},
     "output_type": "execute_result"
    }
   ],
   "source": [
    "data['title'].loc[data['title'].str.contains('ac')]"
   ]
  },
  {
   "cell_type": "code",
   "execution_count": 24,
   "id": "9239c826",
   "metadata": {},
   "outputs": [
    {
     "data": {
      "text/html": [
       "<div>\n",
       "<style scoped>\n",
       "    .dataframe tbody tr th:only-of-type {\n",
       "        vertical-align: middle;\n",
       "    }\n",
       "\n",
       "    .dataframe tbody tr th {\n",
       "        vertical-align: top;\n",
       "    }\n",
       "\n",
       "    .dataframe thead th {\n",
       "        text-align: right;\n",
       "    }\n",
       "</style>\n",
       "<table border=\"1\" class=\"dataframe\">\n",
       "  <thead>\n",
       "    <tr style=\"text-align: right;\">\n",
       "      <th></th>\n",
       "      <th>img_source</th>\n",
       "      <th>length</th>\n",
       "      <th>nb_views</th>\n",
       "      <th>quality</th>\n",
       "      <th>title</th>\n",
       "      <th>video_link</th>\n",
       "      <th>voting</th>\n",
       "      <th>categories</th>\n",
       "      <th>tags</th>\n",
       "    </tr>\n",
       "  </thead>\n",
       "  <tbody>\n",
       "    <tr>\n",
       "      <th>0</th>\n",
       "      <td>http://cdn-d-img.pornhub.com/m=eafT8daaaa/vide...</td>\n",
       "      <td>1583</td>\n",
       "      <td>127450</td>\n",
       "      <td>LOW</td>\n",
       "      <td>Tease then suck</td>\n",
       "      <td>http://thumbzilla.com/video/244ff4e3d92c3bc943...</td>\n",
       "      <td>84</td>\n",
       "      <td>Blowjob</td>\n",
       "      <td>blowjob__oral __fullvideo__strip__tease</td>\n",
       "    </tr>\n",
       "    <tr>\n",
       "      <th>1</th>\n",
       "      <td>http://cdn-d-img.pornhub.com/m=eafT8daaaa/vide...</td>\n",
       "      <td>2501</td>\n",
       "      <td>480620</td>\n",
       "      <td>LOW</td>\n",
       "      <td>Two hot chick on one dick</td>\n",
       "      <td>http://thumbzilla.com/video/1f6206a9c0ea20f710...</td>\n",
       "      <td>79</td>\n",
       "      <td>Threesome</td>\n",
       "      <td>oral__blonde__threesome__blowjob__kissing__tig...</td>\n",
       "    </tr>\n",
       "    <tr>\n",
       "      <th>2</th>\n",
       "      <td>http://cdn-d-img.pornhub.com/m=eafT8daaaa/vide...</td>\n",
       "      <td>1513</td>\n",
       "      <td>99720</td>\n",
       "      <td>LOW</td>\n",
       "      <td>Chick stretches her pussy and blows for the cam</td>\n",
       "      <td>http://thumbzilla.com/video/384a338ea9e067abe2...</td>\n",
       "      <td>77</td>\n",
       "      <td>Brunette</td>\n",
       "      <td>blowjob__pussy__fingering__oral __fullvideo__s...</td>\n",
       "    </tr>\n",
       "    <tr>\n",
       "      <th>3</th>\n",
       "      <td>http://cdn-d-img.pornhub.com/m=eafT8daaaa/vide...</td>\n",
       "      <td>1710</td>\n",
       "      <td>598820</td>\n",
       "      <td>LOW</td>\n",
       "      <td>Fucking my neighbour</td>\n",
       "      <td>http://thumbzilla.com/video/7d7f0f159d8550a233...</td>\n",
       "      <td>80</td>\n",
       "      <td>Blonde__MILF</td>\n",
       "      <td>rubbing__oral__blonde__busty__blowjob__hardcor...</td>\n",
       "    </tr>\n",
       "    <tr>\n",
       "      <th>4</th>\n",
       "      <td>http://cdn-d-img.pornhub.com/m=eafT8daaaa/vide...</td>\n",
       "      <td>1694</td>\n",
       "      <td>155850</td>\n",
       "      <td>LOW</td>\n",
       "      <td>Small titted whore sucking a cock for lunch</td>\n",
       "      <td>http://thumbzilla.com/video/cd325329c5da836d29...</td>\n",
       "      <td>79</td>\n",
       "      <td>POV</td>\n",
       "      <td>rubbing__oral__blowjob__fingering__masturbatio...</td>\n",
       "    </tr>\n",
       "  </tbody>\n",
       "</table>\n",
       "</div>"
      ],
      "text/plain": [
       "                                          img_source  length  nb_views  \\\n",
       "0  http://cdn-d-img.pornhub.com/m=eafT8daaaa/vide...    1583    127450   \n",
       "1  http://cdn-d-img.pornhub.com/m=eafT8daaaa/vide...    2501    480620   \n",
       "2  http://cdn-d-img.pornhub.com/m=eafT8daaaa/vide...    1513     99720   \n",
       "3  http://cdn-d-img.pornhub.com/m=eafT8daaaa/vide...    1710    598820   \n",
       "4  http://cdn-d-img.pornhub.com/m=eafT8daaaa/vide...    1694    155850   \n",
       "\n",
       "  quality                                            title  \\\n",
       "0     LOW                                  Tease then suck   \n",
       "1     LOW                        Two hot chick on one dick   \n",
       "2     LOW  Chick stretches her pussy and blows for the cam   \n",
       "3     LOW                             Fucking my neighbour   \n",
       "4     LOW      Small titted whore sucking a cock for lunch   \n",
       "\n",
       "                                          video_link  voting     categories  \\\n",
       "0  http://thumbzilla.com/video/244ff4e3d92c3bc943...      84        Blowjob   \n",
       "1  http://thumbzilla.com/video/1f6206a9c0ea20f710...      79     Threesome    \n",
       "2  http://thumbzilla.com/video/384a338ea9e067abe2...      77       Brunette   \n",
       "3  http://thumbzilla.com/video/7d7f0f159d8550a233...      80  Blonde__MILF    \n",
       "4  http://thumbzilla.com/video/cd325329c5da836d29...      79           POV    \n",
       "\n",
       "                                                tags  \n",
       "0            blowjob__oral __fullvideo__strip__tease  \n",
       "1  oral__blonde__threesome__blowjob__kissing__tig...  \n",
       "2  blowjob__pussy__fingering__oral __fullvideo__s...  \n",
       "3  rubbing__oral__blonde__busty__blowjob__hardcor...  \n",
       "4  rubbing__oral__blowjob__fingering__masturbatio...  "
      ]
     },
     "execution_count": 24,
     "metadata": {},
     "output_type": "execute_result"
    }
   ],
   "source": [
    "data.head()"
   ]
  },
  {
   "cell_type": "code",
   "execution_count": null,
   "id": "bee9ae6e",
   "metadata": {},
   "outputs": [],
   "source": [
    "most_viewed_title = data[['nb_views','title']].sort_values(by='nb_views', ascending=False)\n",
    "most_viewed_title.sort_values(by='nb_views',ascending=True, inplace=True)\n",
    "plt.figure(figsize=(15,10))\n",
    "ax=sns.barplot(\n",
    "y=most_viewed_title['title'],\n",
    "x=most_viewed_title['nb_views']\n",
    ")\n",
    "plt.xticks(rotation= 90)\n",
    "plt.ylabel('Video Titles')\n",
    "plt.xlabel('Number of views')\n",
    "plt.title('Most viewed videos')\n",
    "plt.show()"
   ]
  },
  {
   "cell_type": "code",
   "execution_count": null,
   "id": "f9581624",
   "metadata": {},
   "outputs": [],
   "source": [
    "most_viewed_cat = data[['nb_views','categories']].sort_values(by='nb_views', ascending=Fals\n",
    "most_viewed_cat.sort_values(by='nb_views',ascending=True, inplace=True)\n",
    "plt.figure(figsize=(15,10))\n",
    "ax=sns.barplot(\n",
    "y=most_viewed_cat['categories'],\n",
    "x=most_viewed_cat['nb_views']\n",
    ")\n",
    "plt.xticks(rotation= 90)\n",
    "plt.ylabel('Categories')\n",
    "plt.xlabel('Number of views')\n",
    "plt.title('Most viewed categories')\n",
    "plt.show()"
   ]
  },
  {
   "cell_type": "code",
   "execution_count": null,
   "id": "54f5d540",
   "metadata": {},
   "outputs": [],
   "source": [
    "most_voted_cat = data[['voting','title']].sort_values(by='voting', ascending=False).head(20\n",
    "most_voted_cat.sort_values(by='voting',ascending=True, inplace=True)\n",
    "plt.figure(figsize=(15,10))\n",
    "ax=sns.barplot(\n",
    "x=most_voted_cat['voting'] ,\n",
    "y=most_voted_cat['title']\n",
    ")\n",
    "plt.xticks(rotation= 90)\n",
    "plt.ylabel('Video Titles')\n",
    "plt.xlabel('Votings')\n",
    "plt.title('Most voted videos')\n",
    "plt.show()"
   ]
  },
  {
   "cell_type": "code",
   "execution_count": null,
   "id": "0b144eaa",
   "metadata": {},
   "outputs": [],
   "source": [
    "print(data['voting'].min())\n",
    "print(data['voting'].mean())\n",
    "print(data['voting'].max())"
   ]
  },
  {
   "cell_type": "code",
   "execution_count": null,
   "id": "49d15e26",
   "metadata": {},
   "outputs": [],
   "source": [
    "plt.figure(figsize=(15,10))\n",
    "sns.distplot(data['voting'],kde = False)\n",
    "plt.show()"
   ]
  },
  {
   "cell_type": "code",
   "execution_count": null,
   "id": "9be07ba3",
   "metadata": {},
   "outputs": [],
   "source": [
    "data2 = data[['nb_views','length']].sort_values(by='nb_views', ascending=False).head(100)\n",
    "plt.figure(figsize=(15,10))\n",
    "ax=sns.barplot(\n",
    "y=data2['nb_views'],\n",
    "x=data2['length'],\n",
    "ci = None\n",
    ")\n",
    "plt.xticks(rotation= 90)\n",
    "plt.ylabel('Number of views')\n",
    "plt.xlabel('Length of videos')\n",
    "plt.title('Length of videos x Number of views')\n",
    "plt.show()"
   ]
  },
  {
   "cell_type": "code",
   "execution_count": null,
   "id": "39dbab0b",
   "metadata": {},
   "outputs": [],
   "source": [
    "data2 = data[['voting','length']].sort_values(by='voting', ascending=False).head(100)\n",
    "plt.figure(figsize=(15,10))\n",
    "ax=sns.barplot(\n",
    "y=data2['voting'],\n",
    "x=data2['length'],\n",
    "ci=None\n",
    ")\n",
    "plt.xticks(rotation= 90)\n",
    "plt.ylabel('Votings')\n",
    "plt.xlabel('Length of videos')\n",
    "plt.title('Length of videos x Votings')\n",
    "plt.show()"
   ]
  },
  {
   "cell_type": "code",
   "execution_count": null,
   "id": "dfd899d5",
   "metadata": {},
   "outputs": [],
   "source": [
    "plt.figure(figsize=(12,8))\n",
    "labels = ['HD video voters','Low Quality video voters']\n",
    "sizes = [\n",
    "np.array(data['voting'].loc[data['quality']=='HD']).sum(),\n",
    "np.array(data['voting'].loc[data['quality']=='LOW']).sum()\n",
    "]\n",
    "colors = ['blue', 'red']\n",
    "explode = (0.05, 0)\n",
    "plt.pie(sizes, explode=explode, labels=labels, colors=colors,\n",
    "autopct='%1.1f%%', shadow=True, startangle=40)\n",
    "plt.axis('equal')\n",
    "plt.show()"
   ]
  },
  {
   "cell_type": "code",
   "execution_count": null,
   "id": "003355fe",
   "metadata": {},
   "outputs": [],
   "source": []
  }
 ],
 "metadata": {
  "kernelspec": {
   "display_name": "Python 3 (ipykernel)",
   "language": "python",
   "name": "python3"
  },
  "language_info": {
   "codemirror_mode": {
    "name": "ipython",
    "version": 3
   },
   "file_extension": ".py",
   "mimetype": "text/x-python",
   "name": "python",
   "nbconvert_exporter": "python",
   "pygments_lexer": "ipython3",
   "version": "3.9.12"
  }
 },
 "nbformat": 4,
 "nbformat_minor": 5
}
