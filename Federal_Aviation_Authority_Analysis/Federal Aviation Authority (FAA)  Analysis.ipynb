{
 "cells": [
  {
   "cell_type": "markdown",
   "id": "c2b20ead",
   "metadata": {},
   "source": [
    "### 1. VIew and import the dataset."
   ]
  },
  {
   "cell_type": "code",
   "execution_count": 1,
   "id": "82d7e568",
   "metadata": {},
   "outputs": [],
   "source": [
    "#Importing required library"
   ]
  },
  {
   "cell_type": "code",
   "execution_count": 2,
   "id": "cdc2b4bc",
   "metadata": {},
   "outputs": [],
   "source": [
    "import pandas as pd"
   ]
  },
  {
   "cell_type": "code",
   "execution_count": 3,
   "id": "4db261ed",
   "metadata": {},
   "outputs": [],
   "source": [
    "#Importing FAA (Federal Aviation Authority) dataset."
   ]
  },
  {
   "cell_type": "code",
   "execution_count": 4,
   "id": "51918718",
   "metadata": {},
   "outputs": [],
   "source": [
    "df = pd.read_csv('D:\\FAA.csv');"
   ]
  },
  {
   "cell_type": "markdown",
   "id": "292f62aa",
   "metadata": {},
   "source": [
    "### 2. View and understand the dataset."
   ]
  },
  {
   "cell_type": "code",
   "execution_count": 5,
   "id": "d8992c14",
   "metadata": {},
   "outputs": [],
   "source": [
    "#View the dataset shape."
   ]
  },
  {
   "cell_type": "code",
   "execution_count": 6,
   "id": "05524595",
   "metadata": {},
   "outputs": [
    {
     "data": {
      "text/plain": [
       "(83, 42)"
      ]
     },
     "execution_count": 6,
     "metadata": {},
     "output_type": "execute_result"
    }
   ],
   "source": [
    "df.shape"
   ]
  },
  {
   "cell_type": "code",
   "execution_count": 7,
   "id": "81317994",
   "metadata": {},
   "outputs": [
    {
     "data": {
      "text/html": [
       "<div>\n",
       "<style scoped>\n",
       "    .dataframe tbody tr th:only-of-type {\n",
       "        vertical-align: middle;\n",
       "    }\n",
       "\n",
       "    .dataframe tbody tr th {\n",
       "        vertical-align: top;\n",
       "    }\n",
       "\n",
       "    .dataframe thead th {\n",
       "        text-align: right;\n",
       "    }\n",
       "</style>\n",
       "<table border=\"1\" class=\"dataframe\">\n",
       "  <thead>\n",
       "    <tr style=\"text-align: right;\">\n",
       "      <th></th>\n",
       "      <th>UPDATED</th>\n",
       "      <th>ENTRY_DATE</th>\n",
       "      <th>EVENT_LCL_DATE</th>\n",
       "      <th>EVENT_LCL_TIME</th>\n",
       "      <th>LOC_CITY_NAME</th>\n",
       "      <th>LOC_STATE_NAME</th>\n",
       "      <th>LOC_CNTRY_NAME</th>\n",
       "      <th>RMK_TEXT</th>\n",
       "      <th>EVENT_TYPE_DESC</th>\n",
       "      <th>FSDO_DESC</th>\n",
       "      <th>...</th>\n",
       "      <th>PAX_INJ_NONE</th>\n",
       "      <th>PAX_INJ_MINOR</th>\n",
       "      <th>PAX_INJ_SERIOUS</th>\n",
       "      <th>PAX_INJ_FATAL</th>\n",
       "      <th>PAX_INJ_UNK</th>\n",
       "      <th>GRND_INJ_NONE</th>\n",
       "      <th>GRND_INJ_MINOR</th>\n",
       "      <th>GRND_INJ_SERIOUS</th>\n",
       "      <th>GRND_INJ_FATAL</th>\n",
       "      <th>GRND_INJ_UNK</th>\n",
       "    </tr>\n",
       "  </thead>\n",
       "  <tbody>\n",
       "    <tr>\n",
       "      <th>0</th>\n",
       "      <td>No</td>\n",
       "      <td>19-Feb-16</td>\n",
       "      <td>19-Feb-16</td>\n",
       "      <td>00:45:00Z</td>\n",
       "      <td>MARSHVILLE</td>\n",
       "      <td>North Carolina</td>\n",
       "      <td>NaN</td>\n",
       "      <td>AIRCRAFT CRASHED INTO TREES, THE 1 PERSON ON B...</td>\n",
       "      <td>Accident</td>\n",
       "      <td>FAA Charlotte FSDO-68</td>\n",
       "      <td>...</td>\n",
       "      <td>NaN</td>\n",
       "      <td>NaN</td>\n",
       "      <td>NaN</td>\n",
       "      <td>NaN</td>\n",
       "      <td>NaN</td>\n",
       "      <td>NaN</td>\n",
       "      <td>NaN</td>\n",
       "      <td>NaN</td>\n",
       "      <td>NaN</td>\n",
       "      <td>NaN</td>\n",
       "    </tr>\n",
       "    <tr>\n",
       "      <th>1</th>\n",
       "      <td>No</td>\n",
       "      <td>19-Feb-16</td>\n",
       "      <td>18-Feb-16</td>\n",
       "      <td>23:55:00Z</td>\n",
       "      <td>TAVERNIER</td>\n",
       "      <td>Florida</td>\n",
       "      <td>NaN</td>\n",
       "      <td>AIRCRAFT ON LANDING WENT OFF THE END OF THE RU...</td>\n",
       "      <td>Incident</td>\n",
       "      <td>FAA Miami FSDO-19</td>\n",
       "      <td>...</td>\n",
       "      <td>NaN</td>\n",
       "      <td>NaN</td>\n",
       "      <td>NaN</td>\n",
       "      <td>NaN</td>\n",
       "      <td>NaN</td>\n",
       "      <td>NaN</td>\n",
       "      <td>NaN</td>\n",
       "      <td>NaN</td>\n",
       "      <td>NaN</td>\n",
       "      <td>NaN</td>\n",
       "    </tr>\n",
       "    <tr>\n",
       "      <th>2</th>\n",
       "      <td>No</td>\n",
       "      <td>19-Feb-16</td>\n",
       "      <td>18-Feb-16</td>\n",
       "      <td>22:14:00Z</td>\n",
       "      <td>TRENTON</td>\n",
       "      <td>New Jersey</td>\n",
       "      <td>NaN</td>\n",
       "      <td>AIRCRAFT ON FINAL SUSTAINED A BIRD STRIKE, LAN...</td>\n",
       "      <td>Incident</td>\n",
       "      <td>FAA Philadelphia FSDO-17</td>\n",
       "      <td>...</td>\n",
       "      <td>NaN</td>\n",
       "      <td>NaN</td>\n",
       "      <td>NaN</td>\n",
       "      <td>NaN</td>\n",
       "      <td>NaN</td>\n",
       "      <td>NaN</td>\n",
       "      <td>NaN</td>\n",
       "      <td>NaN</td>\n",
       "      <td>NaN</td>\n",
       "      <td>NaN</td>\n",
       "    </tr>\n",
       "    <tr>\n",
       "      <th>3</th>\n",
       "      <td>No</td>\n",
       "      <td>19-Feb-16</td>\n",
       "      <td>18-Feb-16</td>\n",
       "      <td>17:10:00Z</td>\n",
       "      <td>ASHEVILLE</td>\n",
       "      <td>North Carolina</td>\n",
       "      <td>NaN</td>\n",
       "      <td>AIRCRAFT ON LANDING, GEAR COLLAPSED, ASHEVILLE...</td>\n",
       "      <td>Incident</td>\n",
       "      <td>FAA Charlotte FSDO-68</td>\n",
       "      <td>...</td>\n",
       "      <td>NaN</td>\n",
       "      <td>NaN</td>\n",
       "      <td>NaN</td>\n",
       "      <td>NaN</td>\n",
       "      <td>NaN</td>\n",
       "      <td>NaN</td>\n",
       "      <td>NaN</td>\n",
       "      <td>NaN</td>\n",
       "      <td>NaN</td>\n",
       "      <td>NaN</td>\n",
       "    </tr>\n",
       "    <tr>\n",
       "      <th>4</th>\n",
       "      <td>No</td>\n",
       "      <td>19-Feb-16</td>\n",
       "      <td>18-Feb-16</td>\n",
       "      <td>00:26:00Z</td>\n",
       "      <td>TALKEETNA</td>\n",
       "      <td>Alaska</td>\n",
       "      <td>NaN</td>\n",
       "      <td>AIRCRAFT ON LANDING, NOSE GEAR COLLAPSED, TALK...</td>\n",
       "      <td>Incident</td>\n",
       "      <td>FAA Anchorage FSDO-03</td>\n",
       "      <td>...</td>\n",
       "      <td>NaN</td>\n",
       "      <td>1.0</td>\n",
       "      <td>NaN</td>\n",
       "      <td>NaN</td>\n",
       "      <td>NaN</td>\n",
       "      <td>NaN</td>\n",
       "      <td>NaN</td>\n",
       "      <td>NaN</td>\n",
       "      <td>NaN</td>\n",
       "      <td>NaN</td>\n",
       "    </tr>\n",
       "  </tbody>\n",
       "</table>\n",
       "<p>5 rows × 42 columns</p>\n",
       "</div>"
      ],
      "text/plain": [
       "  UPDATED ENTRY_DATE EVENT_LCL_DATE EVENT_LCL_TIME LOC_CITY_NAME  \\\n",
       "0      No  19-Feb-16      19-Feb-16      00:45:00Z    MARSHVILLE   \n",
       "1      No  19-Feb-16      18-Feb-16      23:55:00Z     TAVERNIER   \n",
       "2      No  19-Feb-16      18-Feb-16      22:14:00Z       TRENTON   \n",
       "3      No  19-Feb-16      18-Feb-16      17:10:00Z     ASHEVILLE   \n",
       "4      No  19-Feb-16      18-Feb-16      00:26:00Z     TALKEETNA   \n",
       "\n",
       "   LOC_STATE_NAME LOC_CNTRY_NAME  \\\n",
       "0  North Carolina            NaN   \n",
       "1         Florida            NaN   \n",
       "2      New Jersey            NaN   \n",
       "3  North Carolina            NaN   \n",
       "4          Alaska            NaN   \n",
       "\n",
       "                                            RMK_TEXT EVENT_TYPE_DESC  \\\n",
       "0  AIRCRAFT CRASHED INTO TREES, THE 1 PERSON ON B...        Accident   \n",
       "1  AIRCRAFT ON LANDING WENT OFF THE END OF THE RU...        Incident   \n",
       "2  AIRCRAFT ON FINAL SUSTAINED A BIRD STRIKE, LAN...        Incident   \n",
       "3  AIRCRAFT ON LANDING, GEAR COLLAPSED, ASHEVILLE...        Incident   \n",
       "4  AIRCRAFT ON LANDING, NOSE GEAR COLLAPSED, TALK...        Incident   \n",
       "\n",
       "                  FSDO_DESC  ... PAX_INJ_NONE PAX_INJ_MINOR PAX_INJ_SERIOUS  \\\n",
       "0     FAA Charlotte FSDO-68  ...          NaN           NaN             NaN   \n",
       "1         FAA Miami FSDO-19  ...          NaN           NaN             NaN   \n",
       "2  FAA Philadelphia FSDO-17  ...          NaN           NaN             NaN   \n",
       "3     FAA Charlotte FSDO-68  ...          NaN           NaN             NaN   \n",
       "4     FAA Anchorage FSDO-03  ...          NaN           1.0             NaN   \n",
       "\n",
       "  PAX_INJ_FATAL PAX_INJ_UNK  GRND_INJ_NONE GRND_INJ_MINOR GRND_INJ_SERIOUS  \\\n",
       "0           NaN         NaN            NaN            NaN              NaN   \n",
       "1           NaN         NaN            NaN            NaN              NaN   \n",
       "2           NaN         NaN            NaN            NaN              NaN   \n",
       "3           NaN         NaN            NaN            NaN              NaN   \n",
       "4           NaN         NaN            NaN            NaN              NaN   \n",
       "\n",
       "  GRND_INJ_FATAL  GRND_INJ_UNK  \n",
       "0            NaN           NaN  \n",
       "1            NaN           NaN  \n",
       "2            NaN           NaN  \n",
       "3            NaN           NaN  \n",
       "4            NaN           NaN  \n",
       "\n",
       "[5 rows x 42 columns]"
      ]
     },
     "execution_count": 7,
     "metadata": {},
     "output_type": "execute_result"
    }
   ],
   "source": [
    "#View the first 5 rows\n",
    "df.head()"
   ]
  },
  {
   "cell_type": "code",
   "execution_count": 8,
   "id": "74d04a3a",
   "metadata": {},
   "outputs": [
    {
     "data": {
      "text/plain": [
       "Index(['UPDATED', 'ENTRY_DATE', 'EVENT_LCL_DATE', 'EVENT_LCL_TIME',\n",
       "       'LOC_CITY_NAME', 'LOC_STATE_NAME', 'LOC_CNTRY_NAME', 'RMK_TEXT',\n",
       "       'EVENT_TYPE_DESC', 'FSDO_DESC', 'REGIST_NBR', 'FLT_NBR', 'ACFT_OPRTR',\n",
       "       'ACFT_MAKE_NAME', 'ACFT_MODEL_NAME', 'ACFT_MISSING_FLAG',\n",
       "       'ACFT_DMG_DESC', 'FLT_ACTIVITY', 'FLT_PHASE', 'FAR_PART', 'MAX_INJ_LVL',\n",
       "       'FATAL_FLAG', 'FLT_CRW_INJ_NONE', 'FLT_CRW_INJ_MINOR',\n",
       "       'FLT_CRW_INJ_SERIOUS', 'FLT_CRW_INJ_FATAL', 'FLT_CRW_INJ_UNK',\n",
       "       'CBN_CRW_INJ_NONE', 'CBN_CRW_INJ_MINOR', 'CBN_CRW_INJ_SERIOUS',\n",
       "       'CBN_CRW_INJ_FATAL', 'CBN_CRW_INJ_UNK', 'PAX_INJ_NONE', 'PAX_INJ_MINOR',\n",
       "       'PAX_INJ_SERIOUS', 'PAX_INJ_FATAL', 'PAX_INJ_UNK', 'GRND_INJ_NONE',\n",
       "       'GRND_INJ_MINOR', 'GRND_INJ_SERIOUS', 'GRND_INJ_FATAL', 'GRND_INJ_UNK'],\n",
       "      dtype='object')"
      ]
     },
     "execution_count": 8,
     "metadata": {},
     "output_type": "execute_result"
    }
   ],
   "source": [
    "#View the columns present in dataset.\n",
    "df.columns"
   ]
  },
  {
   "cell_type": "markdown",
   "id": "3b621b32",
   "metadata": {},
   "source": [
    "### 3. Extract the following attributes from the dataset:"
   ]
  },
  {
   "cell_type": "raw",
   "id": "f4322260",
   "metadata": {},
   "source": [
    "A.Aircraft make name\n",
    "B.State name\n",
    "C.Aircraft model name\n",
    "D.Text information\n",
    "E.Flight phase\n",
    "F.Event description type\n",
    "G.Fatal flag"
   ]
  },
  {
   "cell_type": "code",
   "execution_count": 9,
   "id": "5d699ab2",
   "metadata": {},
   "outputs": [],
   "source": [
    "#Create a new dataframe with required columns\n",
    "df = df[['ACFT_MAKE_NAME','LOC_STATE_NAME','ACFT_MODEL_NAME','RMK_TEXT','FLT_PHASE','EVENT_TYPE_DESC','FATAL_FLAG']]"
   ]
  },
  {
   "cell_type": "code",
   "execution_count": 10,
   "id": "328c11f5",
   "metadata": {},
   "outputs": [
    {
     "data": {
      "text/plain": [
       "pandas.core.frame.DataFrame"
      ]
     },
     "execution_count": 10,
     "metadata": {},
     "output_type": "execute_result"
    }
   ],
   "source": [
    "#View the type of object.\n",
    "type(df)"
   ]
  },
  {
   "cell_type": "code",
   "execution_count": 11,
   "id": "9f028c90",
   "metadata": {},
   "outputs": [
    {
     "data": {
      "text/html": [
       "<div>\n",
       "<style scoped>\n",
       "    .dataframe tbody tr th:only-of-type {\n",
       "        vertical-align: middle;\n",
       "    }\n",
       "\n",
       "    .dataframe tbody tr th {\n",
       "        vertical-align: top;\n",
       "    }\n",
       "\n",
       "    .dataframe thead th {\n",
       "        text-align: right;\n",
       "    }\n",
       "</style>\n",
       "<table border=\"1\" class=\"dataframe\">\n",
       "  <thead>\n",
       "    <tr style=\"text-align: right;\">\n",
       "      <th></th>\n",
       "      <th>ACFT_MAKE_NAME</th>\n",
       "      <th>LOC_STATE_NAME</th>\n",
       "      <th>ACFT_MODEL_NAME</th>\n",
       "      <th>RMK_TEXT</th>\n",
       "      <th>FLT_PHASE</th>\n",
       "      <th>EVENT_TYPE_DESC</th>\n",
       "      <th>FATAL_FLAG</th>\n",
       "    </tr>\n",
       "  </thead>\n",
       "  <tbody>\n",
       "    <tr>\n",
       "      <th>0</th>\n",
       "      <td>BEECH</td>\n",
       "      <td>North Carolina</td>\n",
       "      <td>36</td>\n",
       "      <td>AIRCRAFT CRASHED INTO TREES, THE 1 PERSON ON B...</td>\n",
       "      <td>UNKNOWN (UNK)</td>\n",
       "      <td>Accident</td>\n",
       "      <td>Yes</td>\n",
       "    </tr>\n",
       "    <tr>\n",
       "      <th>1</th>\n",
       "      <td>VANS</td>\n",
       "      <td>Florida</td>\n",
       "      <td>RV7</td>\n",
       "      <td>AIRCRAFT ON LANDING WENT OFF THE END OF THE RU...</td>\n",
       "      <td>LANDING (LDG)</td>\n",
       "      <td>Incident</td>\n",
       "      <td>NaN</td>\n",
       "    </tr>\n",
       "    <tr>\n",
       "      <th>2</th>\n",
       "      <td>CESSNA</td>\n",
       "      <td>New Jersey</td>\n",
       "      <td>172</td>\n",
       "      <td>AIRCRAFT ON FINAL SUSTAINED A BIRD STRIKE, LAN...</td>\n",
       "      <td>APPROACH (APR)</td>\n",
       "      <td>Incident</td>\n",
       "      <td>NaN</td>\n",
       "    </tr>\n",
       "    <tr>\n",
       "      <th>3</th>\n",
       "      <td>LANCAIR</td>\n",
       "      <td>North Carolina</td>\n",
       "      <td>235</td>\n",
       "      <td>AIRCRAFT ON LANDING, GEAR COLLAPSED, ASHEVILLE...</td>\n",
       "      <td>LANDING (LDG)</td>\n",
       "      <td>Incident</td>\n",
       "      <td>NaN</td>\n",
       "    </tr>\n",
       "    <tr>\n",
       "      <th>4</th>\n",
       "      <td>CESSNA</td>\n",
       "      <td>Alaska</td>\n",
       "      <td>172</td>\n",
       "      <td>AIRCRAFT ON LANDING, NOSE GEAR COLLAPSED, TALK...</td>\n",
       "      <td>LANDING (LDG)</td>\n",
       "      <td>Incident</td>\n",
       "      <td>NaN</td>\n",
       "    </tr>\n",
       "  </tbody>\n",
       "</table>\n",
       "</div>"
      ],
      "text/plain": [
       "  ACFT_MAKE_NAME  LOC_STATE_NAME ACFT_MODEL_NAME  \\\n",
       "0          BEECH  North Carolina              36   \n",
       "1           VANS         Florida             RV7   \n",
       "2         CESSNA      New Jersey             172   \n",
       "3        LANCAIR  North Carolina             235   \n",
       "4         CESSNA          Alaska             172   \n",
       "\n",
       "                                            RMK_TEXT       FLT_PHASE  \\\n",
       "0  AIRCRAFT CRASHED INTO TREES, THE 1 PERSON ON B...   UNKNOWN (UNK)   \n",
       "1  AIRCRAFT ON LANDING WENT OFF THE END OF THE RU...   LANDING (LDG)   \n",
       "2  AIRCRAFT ON FINAL SUSTAINED A BIRD STRIKE, LAN...  APPROACH (APR)   \n",
       "3  AIRCRAFT ON LANDING, GEAR COLLAPSED, ASHEVILLE...   LANDING (LDG)   \n",
       "4  AIRCRAFT ON LANDING, NOSE GEAR COLLAPSED, TALK...   LANDING (LDG)   \n",
       "\n",
       "  EVENT_TYPE_DESC FATAL_FLAG  \n",
       "0        Accident        Yes  \n",
       "1        Incident        NaN  \n",
       "2        Incident        NaN  \n",
       "3        Incident        NaN  \n",
       "4        Incident        NaN  "
      ]
     },
     "execution_count": 11,
     "metadata": {},
     "output_type": "execute_result"
    }
   ],
   "source": [
    "df.head()"
   ]
  },
  {
   "cell_type": "markdown",
   "id": "7e73d70c",
   "metadata": {},
   "source": [
    "### 4. Clean the dataset and replace the fatal flag NaN with “No”."
   ]
  },
  {
   "cell_type": "code",
   "execution_count": 12,
   "id": "02c94a11",
   "metadata": {},
   "outputs": [],
   "source": [
    "#Replace all Fatal Flag column missing values with the required output.\n",
    "df['FATAL_FLAG'].fillna(value='No',inplace=True)"
   ]
  },
  {
   "cell_type": "code",
   "execution_count": 13,
   "id": "e480134b",
   "metadata": {},
   "outputs": [
    {
     "data": {
      "text/html": [
       "<div>\n",
       "<style scoped>\n",
       "    .dataframe tbody tr th:only-of-type {\n",
       "        vertical-align: middle;\n",
       "    }\n",
       "\n",
       "    .dataframe tbody tr th {\n",
       "        vertical-align: top;\n",
       "    }\n",
       "\n",
       "    .dataframe thead th {\n",
       "        text-align: right;\n",
       "    }\n",
       "</style>\n",
       "<table border=\"1\" class=\"dataframe\">\n",
       "  <thead>\n",
       "    <tr style=\"text-align: right;\">\n",
       "      <th></th>\n",
       "      <th>ACFT_MAKE_NAME</th>\n",
       "      <th>LOC_STATE_NAME</th>\n",
       "      <th>ACFT_MODEL_NAME</th>\n",
       "      <th>RMK_TEXT</th>\n",
       "      <th>FLT_PHASE</th>\n",
       "      <th>EVENT_TYPE_DESC</th>\n",
       "      <th>FATAL_FLAG</th>\n",
       "    </tr>\n",
       "  </thead>\n",
       "  <tbody>\n",
       "    <tr>\n",
       "      <th>0</th>\n",
       "      <td>BEECH</td>\n",
       "      <td>North Carolina</td>\n",
       "      <td>36</td>\n",
       "      <td>AIRCRAFT CRASHED INTO TREES, THE 1 PERSON ON B...</td>\n",
       "      <td>UNKNOWN (UNK)</td>\n",
       "      <td>Accident</td>\n",
       "      <td>Yes</td>\n",
       "    </tr>\n",
       "    <tr>\n",
       "      <th>1</th>\n",
       "      <td>VANS</td>\n",
       "      <td>Florida</td>\n",
       "      <td>RV7</td>\n",
       "      <td>AIRCRAFT ON LANDING WENT OFF THE END OF THE RU...</td>\n",
       "      <td>LANDING (LDG)</td>\n",
       "      <td>Incident</td>\n",
       "      <td>No</td>\n",
       "    </tr>\n",
       "    <tr>\n",
       "      <th>2</th>\n",
       "      <td>CESSNA</td>\n",
       "      <td>New Jersey</td>\n",
       "      <td>172</td>\n",
       "      <td>AIRCRAFT ON FINAL SUSTAINED A BIRD STRIKE, LAN...</td>\n",
       "      <td>APPROACH (APR)</td>\n",
       "      <td>Incident</td>\n",
       "      <td>No</td>\n",
       "    </tr>\n",
       "    <tr>\n",
       "      <th>3</th>\n",
       "      <td>LANCAIR</td>\n",
       "      <td>North Carolina</td>\n",
       "      <td>235</td>\n",
       "      <td>AIRCRAFT ON LANDING, GEAR COLLAPSED, ASHEVILLE...</td>\n",
       "      <td>LANDING (LDG)</td>\n",
       "      <td>Incident</td>\n",
       "      <td>No</td>\n",
       "    </tr>\n",
       "    <tr>\n",
       "      <th>4</th>\n",
       "      <td>CESSNA</td>\n",
       "      <td>Alaska</td>\n",
       "      <td>172</td>\n",
       "      <td>AIRCRAFT ON LANDING, NOSE GEAR COLLAPSED, TALK...</td>\n",
       "      <td>LANDING (LDG)</td>\n",
       "      <td>Incident</td>\n",
       "      <td>No</td>\n",
       "    </tr>\n",
       "  </tbody>\n",
       "</table>\n",
       "</div>"
      ],
      "text/plain": [
       "  ACFT_MAKE_NAME  LOC_STATE_NAME ACFT_MODEL_NAME  \\\n",
       "0          BEECH  North Carolina              36   \n",
       "1           VANS         Florida             RV7   \n",
       "2         CESSNA      New Jersey             172   \n",
       "3        LANCAIR  North Carolina             235   \n",
       "4         CESSNA          Alaska             172   \n",
       "\n",
       "                                            RMK_TEXT       FLT_PHASE  \\\n",
       "0  AIRCRAFT CRASHED INTO TREES, THE 1 PERSON ON B...   UNKNOWN (UNK)   \n",
       "1  AIRCRAFT ON LANDING WENT OFF THE END OF THE RU...   LANDING (LDG)   \n",
       "2  AIRCRAFT ON FINAL SUSTAINED A BIRD STRIKE, LAN...  APPROACH (APR)   \n",
       "3  AIRCRAFT ON LANDING, GEAR COLLAPSED, ASHEVILLE...   LANDING (LDG)   \n",
       "4  AIRCRAFT ON LANDING, NOSE GEAR COLLAPSED, TALK...   LANDING (LDG)   \n",
       "\n",
       "  EVENT_TYPE_DESC FATAL_FLAG  \n",
       "0        Accident        Yes  \n",
       "1        Incident         No  \n",
       "2        Incident         No  \n",
       "3        Incident         No  \n",
       "4        Incident         No  "
      ]
     },
     "execution_count": 13,
     "metadata": {},
     "output_type": "execute_result"
    }
   ],
   "source": [
    "#Verifying missing values replaced or not.\n",
    "df.head()"
   ]
  },
  {
   "cell_type": "code",
   "execution_count": 14,
   "id": "349ff950",
   "metadata": {},
   "outputs": [
    {
     "data": {
      "text/plain": [
       "(83, 7)"
      ]
     },
     "execution_count": 14,
     "metadata": {},
     "output_type": "execute_result"
    }
   ],
   "source": [
    "#Check the number of observations.\n",
    "df.shape"
   ]
  },
  {
   "cell_type": "code",
   "execution_count": 15,
   "id": "c62836be",
   "metadata": {},
   "outputs": [
    {
     "data": {
      "text/html": [
       "<div>\n",
       "<style scoped>\n",
       "    .dataframe tbody tr th:only-of-type {\n",
       "        vertical-align: middle;\n",
       "    }\n",
       "\n",
       "    .dataframe tbody tr th {\n",
       "        vertical-align: top;\n",
       "    }\n",
       "\n",
       "    .dataframe thead th {\n",
       "        text-align: right;\n",
       "    }\n",
       "</style>\n",
       "<table border=\"1\" class=\"dataframe\">\n",
       "  <thead>\n",
       "    <tr style=\"text-align: right;\">\n",
       "      <th></th>\n",
       "      <th>ACFT_MAKE_NAME</th>\n",
       "      <th>LOC_STATE_NAME</th>\n",
       "      <th>ACFT_MODEL_NAME</th>\n",
       "      <th>RMK_TEXT</th>\n",
       "      <th>FLT_PHASE</th>\n",
       "      <th>EVENT_TYPE_DESC</th>\n",
       "      <th>FATAL_FLAG</th>\n",
       "    </tr>\n",
       "  </thead>\n",
       "  <tbody>\n",
       "    <tr>\n",
       "      <th>0</th>\n",
       "      <td>BEECH</td>\n",
       "      <td>North Carolina</td>\n",
       "      <td>36</td>\n",
       "      <td>AIRCRAFT CRASHED INTO TREES, THE 1 PERSON ON B...</td>\n",
       "      <td>UNKNOWN (UNK)</td>\n",
       "      <td>Accident</td>\n",
       "      <td>Yes</td>\n",
       "    </tr>\n",
       "    <tr>\n",
       "      <th>1</th>\n",
       "      <td>VANS</td>\n",
       "      <td>Florida</td>\n",
       "      <td>RV7</td>\n",
       "      <td>AIRCRAFT ON LANDING WENT OFF THE END OF THE RU...</td>\n",
       "      <td>LANDING (LDG)</td>\n",
       "      <td>Incident</td>\n",
       "      <td>No</td>\n",
       "    </tr>\n",
       "    <tr>\n",
       "      <th>2</th>\n",
       "      <td>CESSNA</td>\n",
       "      <td>New Jersey</td>\n",
       "      <td>172</td>\n",
       "      <td>AIRCRAFT ON FINAL SUSTAINED A BIRD STRIKE, LAN...</td>\n",
       "      <td>APPROACH (APR)</td>\n",
       "      <td>Incident</td>\n",
       "      <td>No</td>\n",
       "    </tr>\n",
       "    <tr>\n",
       "      <th>3</th>\n",
       "      <td>LANCAIR</td>\n",
       "      <td>North Carolina</td>\n",
       "      <td>235</td>\n",
       "      <td>AIRCRAFT ON LANDING, GEAR COLLAPSED, ASHEVILLE...</td>\n",
       "      <td>LANDING (LDG)</td>\n",
       "      <td>Incident</td>\n",
       "      <td>No</td>\n",
       "    </tr>\n",
       "    <tr>\n",
       "      <th>4</th>\n",
       "      <td>CESSNA</td>\n",
       "      <td>Alaska</td>\n",
       "      <td>172</td>\n",
       "      <td>AIRCRAFT ON LANDING, NOSE GEAR COLLAPSED, TALK...</td>\n",
       "      <td>LANDING (LDG)</td>\n",
       "      <td>Incident</td>\n",
       "      <td>No</td>\n",
       "    </tr>\n",
       "    <tr>\n",
       "      <th>...</th>\n",
       "      <td>...</td>\n",
       "      <td>...</td>\n",
       "      <td>...</td>\n",
       "      <td>...</td>\n",
       "      <td>...</td>\n",
       "      <td>...</td>\n",
       "      <td>...</td>\n",
       "    </tr>\n",
       "    <tr>\n",
       "      <th>78</th>\n",
       "      <td>AERONCA</td>\n",
       "      <td>Texas</td>\n",
       "      <td>O58B</td>\n",
       "      <td>AIRCRAFT ON LANDING, GROUND LOOPED, BULVERDE A...</td>\n",
       "      <td>LANDING (LDG)</td>\n",
       "      <td>Accident</td>\n",
       "      <td>No</td>\n",
       "    </tr>\n",
       "    <tr>\n",
       "      <th>79</th>\n",
       "      <td>NORTH AMERICAN</td>\n",
       "      <td>Arizona</td>\n",
       "      <td>F51</td>\n",
       "      <td>AIRCRAFT CRASHED UNDER UNKNOWN CIRCUMSTANCES, ...</td>\n",
       "      <td>UNKNOWN (UNK)</td>\n",
       "      <td>Accident</td>\n",
       "      <td>Yes</td>\n",
       "    </tr>\n",
       "    <tr>\n",
       "      <th>80</th>\n",
       "      <td>CHAMPION</td>\n",
       "      <td>California</td>\n",
       "      <td>8KCAB</td>\n",
       "      <td>N9872R, BEECH M35 AIRCRAFT, AND N5057G, BELLAN...</td>\n",
       "      <td>UNKNOWN (UNK)</td>\n",
       "      <td>Accident</td>\n",
       "      <td>Yes</td>\n",
       "    </tr>\n",
       "    <tr>\n",
       "      <th>81</th>\n",
       "      <td>BEECH</td>\n",
       "      <td>California</td>\n",
       "      <td>35</td>\n",
       "      <td>N9872R, BEECH M35 AIRCRAFT, AND N5057G, BELLAN...</td>\n",
       "      <td>UNKNOWN (UNK)</td>\n",
       "      <td>Accident</td>\n",
       "      <td>Yes</td>\n",
       "    </tr>\n",
       "    <tr>\n",
       "      <th>82</th>\n",
       "      <td>CESSNA</td>\n",
       "      <td>Alabama</td>\n",
       "      <td>182</td>\n",
       "      <td>N784CP AIRCRAFT CRASHED INTO A WOODED AREA NEA...</td>\n",
       "      <td>UNKNOWN (UNK)</td>\n",
       "      <td>Accident</td>\n",
       "      <td>Yes</td>\n",
       "    </tr>\n",
       "  </tbody>\n",
       "</table>\n",
       "<p>83 rows × 7 columns</p>\n",
       "</div>"
      ],
      "text/plain": [
       "    ACFT_MAKE_NAME  LOC_STATE_NAME ACFT_MODEL_NAME  \\\n",
       "0            BEECH  North Carolina              36   \n",
       "1             VANS         Florida             RV7   \n",
       "2           CESSNA      New Jersey             172   \n",
       "3          LANCAIR  North Carolina             235   \n",
       "4           CESSNA          Alaska             172   \n",
       "..             ...             ...             ...   \n",
       "78         AERONCA           Texas            O58B   \n",
       "79  NORTH AMERICAN         Arizona             F51   \n",
       "80        CHAMPION      California           8KCAB   \n",
       "81           BEECH      California              35   \n",
       "82          CESSNA         Alabama             182   \n",
       "\n",
       "                                             RMK_TEXT       FLT_PHASE  \\\n",
       "0   AIRCRAFT CRASHED INTO TREES, THE 1 PERSON ON B...   UNKNOWN (UNK)   \n",
       "1   AIRCRAFT ON LANDING WENT OFF THE END OF THE RU...   LANDING (LDG)   \n",
       "2   AIRCRAFT ON FINAL SUSTAINED A BIRD STRIKE, LAN...  APPROACH (APR)   \n",
       "3   AIRCRAFT ON LANDING, GEAR COLLAPSED, ASHEVILLE...   LANDING (LDG)   \n",
       "4   AIRCRAFT ON LANDING, NOSE GEAR COLLAPSED, TALK...   LANDING (LDG)   \n",
       "..                                                ...             ...   \n",
       "78  AIRCRAFT ON LANDING, GROUND LOOPED, BULVERDE A...   LANDING (LDG)   \n",
       "79  AIRCRAFT CRASHED UNDER UNKNOWN CIRCUMSTANCES, ...   UNKNOWN (UNK)   \n",
       "80  N9872R, BEECH M35 AIRCRAFT, AND N5057G, BELLAN...   UNKNOWN (UNK)   \n",
       "81  N9872R, BEECH M35 AIRCRAFT, AND N5057G, BELLAN...   UNKNOWN (UNK)   \n",
       "82  N784CP AIRCRAFT CRASHED INTO A WOODED AREA NEA...   UNKNOWN (UNK)   \n",
       "\n",
       "   EVENT_TYPE_DESC FATAL_FLAG  \n",
       "0         Accident        Yes  \n",
       "1         Incident         No  \n",
       "2         Incident         No  \n",
       "3         Incident         No  \n",
       "4         Incident         No  \n",
       "..             ...        ...  \n",
       "78        Accident         No  \n",
       "79        Accident        Yes  \n",
       "80        Accident        Yes  \n",
       "81        Accident        Yes  \n",
       "82        Accident        Yes  \n",
       "\n",
       "[83 rows x 7 columns]"
      ]
     },
     "execution_count": 15,
     "metadata": {},
     "output_type": "execute_result"
    }
   ],
   "source": [
    "df"
   ]
  },
  {
   "cell_type": "markdown",
   "id": "7fd1e900",
   "metadata": {},
   "source": [
    "### 5. Remove all the observations where aircraft names are not available."
   ]
  },
  {
   "cell_type": "code",
   "execution_count": 16,
   "id": "33dd2aa4",
   "metadata": {},
   "outputs": [],
   "source": [
    "#Subset is used in dropna method when You have to delete specific column in dataset.\n",
    "df = df.dropna(subset=['ACFT_MAKE_NAME'])"
   ]
  },
  {
   "cell_type": "code",
   "execution_count": 18,
   "id": "49cef6a5",
   "metadata": {},
   "outputs": [
    {
     "data": {
      "text/plain": [
       "(78, 7)"
      ]
     },
     "execution_count": 18,
     "metadata": {},
     "output_type": "execute_result"
    }
   ],
   "source": [
    "df.shape"
   ]
  },
  {
   "cell_type": "code",
   "execution_count": 22,
   "id": "7953cef0",
   "metadata": {},
   "outputs": [],
   "source": [
    "# dropna method is used to remove all missing values in dataset.\n",
    "df = df.dropna()"
   ]
  },
  {
   "cell_type": "code",
   "execution_count": 23,
   "id": "019c6efc",
   "metadata": {},
   "outputs": [
    {
     "data": {
      "text/plain": [
       "(76, 7)"
      ]
     },
     "execution_count": 23,
     "metadata": {},
     "output_type": "execute_result"
    }
   ],
   "source": [
    "df.shape"
   ]
  },
  {
   "cell_type": "markdown",
   "id": "a109392e",
   "metadata": {},
   "source": [
    "### 6. Find the aircraft types and their occurrences in the dataset."
   ]
  },
  {
   "cell_type": "code",
   "execution_count": 24,
   "id": "0984718c",
   "metadata": {},
   "outputs": [
    {
     "data": {
      "text/plain": [
       "(76, 7)"
      ]
     },
     "execution_count": 24,
     "metadata": {},
     "output_type": "execute_result"
    }
   ],
   "source": [
    "#Check the number of observations now to compare it with the original dataset and see how many values have been dropped\n",
    "df.shape"
   ]
  },
  {
   "cell_type": "code",
   "execution_count": 25,
   "id": "296e4a02",
   "metadata": {},
   "outputs": [],
   "source": [
    "#Group the dataset by aircraft name.\n",
    "aircraftType = df.groupby('ACFT_MAKE_NAME')"
   ]
  },
  {
   "cell_type": "code",
   "execution_count": 26,
   "id": "bb31668e",
   "metadata": {},
   "outputs": [
    {
     "data": {
      "text/plain": [
       "ACFT_MAKE_NAME\n",
       "AERO COMMANDER             1\n",
       "AERONCA                    1\n",
       "AEROSTAR INTERNATIONAL     1\n",
       "AIRBUS                     1\n",
       "BEECH                      9\n",
       "BELL                       2\n",
       "BOEING                     2\n",
       "CESSNA                    23\n",
       "CHAMPION                   2\n",
       "CHRISTEN                   1\n",
       "CONSOLIDATED VULTEE        1\n",
       "EMBRAER                    1\n",
       "FAIRCHILD                  1\n",
       "FLIGHT DESIGN              1\n",
       "GLOBE                      1\n",
       "GREAT LAKES                1\n",
       "GRUMMAN                    1\n",
       "GULFSTREAM                 1\n",
       "HUGHES                     1\n",
       "LANCAIR                    2\n",
       "MAULE                      1\n",
       "MOONEY                     4\n",
       "NORTH AMERICAN             1\n",
       "PIPER                     10\n",
       "PITTS                      1\n",
       "SAAB                       1\n",
       "SABRELINER                 1\n",
       "SOCATA                     2\n",
       "VANS                       1\n",
       "dtype: int64"
      ]
     },
     "execution_count": 26,
     "metadata": {},
     "output_type": "execute_result"
    }
   ],
   "source": [
    "#View the number of times each aircraft type appears in the dataset (Hint: use the size() method)\n",
    "aircraftType.size()"
   ]
  },
  {
   "cell_type": "code",
   "execution_count": 27,
   "id": "858913de",
   "metadata": {},
   "outputs": [],
   "source": [
    "#Group the dataset by LOC_STATE_NAME name.\n",
    "state_type = df.groupby('LOC_STATE_NAME')"
   ]
  },
  {
   "cell_type": "code",
   "execution_count": 28,
   "id": "d35d0f43",
   "metadata": {},
   "outputs": [
    {
     "data": {
      "text/plain": [
       "LOC_STATE_NAME\n",
       "Alabama            1\n",
       "Alaska             3\n",
       "Arizona            3\n",
       "Arkansas           2\n",
       "California        15\n",
       "Colorado           2\n",
       "Florida           12\n",
       "Georgia            1\n",
       "Hawaii             1\n",
       "Kansas             2\n",
       "Louisiana          2\n",
       "Maryland           2\n",
       "Massachusetts      1\n",
       "Michigan           1\n",
       "Minnesota          1\n",
       "Missouri           1\n",
       "Montana            1\n",
       "Nevada             1\n",
       "New Hampshire      1\n",
       "New Jersey         1\n",
       "New York           2\n",
       "North Carolina     2\n",
       "Ohio               1\n",
       "Oklahoma           1\n",
       "Oregon             3\n",
       "Pennsylvania       1\n",
       "Rhode Island       1\n",
       "South Dakota       1\n",
       "Tennessee          1\n",
       "Texas              5\n",
       "Virginia           3\n",
       "West Virginia      1\n",
       "dtype: int64"
      ]
     },
     "execution_count": 28,
     "metadata": {},
     "output_type": "execute_result"
    }
   ],
   "source": [
    "#View the number of times each State_Name appears in the dataset (Hint: use the size() method)\n",
    "state_type.size()"
   ]
  },
  {
   "cell_type": "markdown",
   "id": "2a56b57b",
   "metadata": {},
   "source": [
    "### 7: Display the observations where fatal flag is “Yes”."
   ]
  },
  {
   "cell_type": "code",
   "execution_count": 29,
   "id": "3c357e72",
   "metadata": {},
   "outputs": [
    {
     "data": {
      "text/plain": [
       "Index(['ACFT_MAKE_NAME', 'LOC_STATE_NAME', 'ACFT_MODEL_NAME', 'RMK_TEXT',\n",
       "       'FLT_PHASE', 'EVENT_TYPE_DESC', 'FATAL_FLAG'],\n",
       "      dtype='object')"
      ]
     },
     "execution_count": 29,
     "metadata": {},
     "output_type": "execute_result"
    }
   ],
   "source": [
    "df.columns"
   ]
  },
  {
   "cell_type": "code",
   "execution_count": 30,
   "id": "dc115464",
   "metadata": {},
   "outputs": [],
   "source": [
    "fatal_count = df.groupby('FATAL_FLAG')"
   ]
  },
  {
   "cell_type": "code",
   "execution_count": 31,
   "id": "3820d782",
   "metadata": {},
   "outputs": [
    {
     "data": {
      "text/plain": [
       "FATAL_FLAG\n",
       "No     69\n",
       "Yes     7\n",
       "dtype: int64"
      ]
     },
     "execution_count": 31,
     "metadata": {},
     "output_type": "execute_result"
    }
   ],
   "source": [
    "fatal_count.size()"
   ]
  },
  {
   "cell_type": "code",
   "execution_count": 32,
   "id": "a7f1e9d4",
   "metadata": {},
   "outputs": [],
   "source": [
    "#Create a new dataframe to view only the fatal accidents (Fatal Flag values = Yes)\n",
    "accidents_with_fatality = fatal_count.get_group('Yes')"
   ]
  },
  {
   "cell_type": "code",
   "execution_count": 33,
   "id": "b7176ad2",
   "metadata": {},
   "outputs": [
    {
     "data": {
      "text/html": [
       "<div>\n",
       "<style scoped>\n",
       "    .dataframe tbody tr th:only-of-type {\n",
       "        vertical-align: middle;\n",
       "    }\n",
       "\n",
       "    .dataframe tbody tr th {\n",
       "        vertical-align: top;\n",
       "    }\n",
       "\n",
       "    .dataframe thead th {\n",
       "        text-align: right;\n",
       "    }\n",
       "</style>\n",
       "<table border=\"1\" class=\"dataframe\">\n",
       "  <thead>\n",
       "    <tr style=\"text-align: right;\">\n",
       "      <th></th>\n",
       "      <th>ACFT_MAKE_NAME</th>\n",
       "      <th>LOC_STATE_NAME</th>\n",
       "      <th>ACFT_MODEL_NAME</th>\n",
       "      <th>RMK_TEXT</th>\n",
       "      <th>FLT_PHASE</th>\n",
       "      <th>EVENT_TYPE_DESC</th>\n",
       "      <th>FATAL_FLAG</th>\n",
       "    </tr>\n",
       "  </thead>\n",
       "  <tbody>\n",
       "    <tr>\n",
       "      <th>0</th>\n",
       "      <td>BEECH</td>\n",
       "      <td>North Carolina</td>\n",
       "      <td>36</td>\n",
       "      <td>AIRCRAFT CRASHED INTO TREES, THE 1 PERSON ON B...</td>\n",
       "      <td>UNKNOWN (UNK)</td>\n",
       "      <td>Accident</td>\n",
       "      <td>Yes</td>\n",
       "    </tr>\n",
       "    <tr>\n",
       "      <th>53</th>\n",
       "      <td>PIPER</td>\n",
       "      <td>Florida</td>\n",
       "      <td>PA28</td>\n",
       "      <td>AIRCRAFT CRASHED UNDER UNKNOWN CIRCUMSTANCES. ...</td>\n",
       "      <td>UNKNOWN (UNK)</td>\n",
       "      <td>Accident</td>\n",
       "      <td>Yes</td>\n",
       "    </tr>\n",
       "    <tr>\n",
       "      <th>55</th>\n",
       "      <td>FLIGHT DESIGN</td>\n",
       "      <td>California</td>\n",
       "      <td>CTLS</td>\n",
       "      <td>AIRCRAFT CRASHED UNDER UNKNOWN CIRCUMSTANCES A...</td>\n",
       "      <td>UNKNOWN (UNK)</td>\n",
       "      <td>Accident</td>\n",
       "      <td>Yes</td>\n",
       "    </tr>\n",
       "    <tr>\n",
       "      <th>79</th>\n",
       "      <td>NORTH AMERICAN</td>\n",
       "      <td>Arizona</td>\n",
       "      <td>F51</td>\n",
       "      <td>AIRCRAFT CRASHED UNDER UNKNOWN CIRCUMSTANCES, ...</td>\n",
       "      <td>UNKNOWN (UNK)</td>\n",
       "      <td>Accident</td>\n",
       "      <td>Yes</td>\n",
       "    </tr>\n",
       "    <tr>\n",
       "      <th>80</th>\n",
       "      <td>CHAMPION</td>\n",
       "      <td>California</td>\n",
       "      <td>8KCAB</td>\n",
       "      <td>N9872R, BEECH M35 AIRCRAFT, AND N5057G, BELLAN...</td>\n",
       "      <td>UNKNOWN (UNK)</td>\n",
       "      <td>Accident</td>\n",
       "      <td>Yes</td>\n",
       "    </tr>\n",
       "    <tr>\n",
       "      <th>81</th>\n",
       "      <td>BEECH</td>\n",
       "      <td>California</td>\n",
       "      <td>35</td>\n",
       "      <td>N9872R, BEECH M35 AIRCRAFT, AND N5057G, BELLAN...</td>\n",
       "      <td>UNKNOWN (UNK)</td>\n",
       "      <td>Accident</td>\n",
       "      <td>Yes</td>\n",
       "    </tr>\n",
       "    <tr>\n",
       "      <th>82</th>\n",
       "      <td>CESSNA</td>\n",
       "      <td>Alabama</td>\n",
       "      <td>182</td>\n",
       "      <td>N784CP AIRCRAFT CRASHED INTO A WOODED AREA NEA...</td>\n",
       "      <td>UNKNOWN (UNK)</td>\n",
       "      <td>Accident</td>\n",
       "      <td>Yes</td>\n",
       "    </tr>\n",
       "  </tbody>\n",
       "</table>\n",
       "</div>"
      ],
      "text/plain": [
       "    ACFT_MAKE_NAME  LOC_STATE_NAME ACFT_MODEL_NAME  \\\n",
       "0            BEECH  North Carolina              36   \n",
       "53           PIPER         Florida            PA28   \n",
       "55   FLIGHT DESIGN      California            CTLS   \n",
       "79  NORTH AMERICAN         Arizona             F51   \n",
       "80        CHAMPION      California           8KCAB   \n",
       "81           BEECH      California              35   \n",
       "82          CESSNA         Alabama             182   \n",
       "\n",
       "                                             RMK_TEXT      FLT_PHASE  \\\n",
       "0   AIRCRAFT CRASHED INTO TREES, THE 1 PERSON ON B...  UNKNOWN (UNK)   \n",
       "53  AIRCRAFT CRASHED UNDER UNKNOWN CIRCUMSTANCES. ...  UNKNOWN (UNK)   \n",
       "55  AIRCRAFT CRASHED UNDER UNKNOWN CIRCUMSTANCES A...  UNKNOWN (UNK)   \n",
       "79  AIRCRAFT CRASHED UNDER UNKNOWN CIRCUMSTANCES, ...  UNKNOWN (UNK)   \n",
       "80  N9872R, BEECH M35 AIRCRAFT, AND N5057G, BELLAN...  UNKNOWN (UNK)   \n",
       "81  N9872R, BEECH M35 AIRCRAFT, AND N5057G, BELLAN...  UNKNOWN (UNK)   \n",
       "82  N784CP AIRCRAFT CRASHED INTO A WOODED AREA NEA...  UNKNOWN (UNK)   \n",
       "\n",
       "   EVENT_TYPE_DESC FATAL_FLAG  \n",
       "0         Accident        Yes  \n",
       "53        Accident        Yes  \n",
       "55        Accident        Yes  \n",
       "79        Accident        Yes  \n",
       "80        Accident        Yes  \n",
       "81        Accident        Yes  \n",
       "82        Accident        Yes  "
      ]
     },
     "execution_count": 33,
     "metadata": {},
     "output_type": "execute_result"
    }
   ],
   "source": [
    "accidents_with_fatality"
   ]
  },
  {
   "cell_type": "code",
   "execution_count": null,
   "id": "6504ec1f",
   "metadata": {},
   "outputs": [],
   "source": []
  }
 ],
 "metadata": {
  "kernelspec": {
   "display_name": "Python 3 (ipykernel)",
   "language": "python",
   "name": "python3"
  },
  "language_info": {
   "codemirror_mode": {
    "name": "ipython",
    "version": 3
   },
   "file_extension": ".py",
   "mimetype": "text/x-python",
   "name": "python",
   "nbconvert_exporter": "python",
   "pygments_lexer": "ipython3",
   "version": "3.9.12"
  }
 },
 "nbformat": 4,
 "nbformat_minor": 5
}
