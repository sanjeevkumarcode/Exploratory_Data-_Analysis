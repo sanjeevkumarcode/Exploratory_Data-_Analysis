{
 "cells": [
  {
   "cell_type": "markdown",
   "id": "0de4008d",
   "metadata": {},
   "source": [
    "### 1. Import the dataset."
   ]
  },
  {
   "cell_type": "code",
   "execution_count": 1,
   "id": "cca35aa0",
   "metadata": {},
   "outputs": [],
   "source": [
    "#Import the required library\n",
    "import pandas as pd"
   ]
  },
  {
   "cell_type": "code",
   "execution_count": 2,
   "id": "ce14a73a",
   "metadata": {},
   "outputs": [],
   "source": [
    "#Import the advertising dataset\n",
    "df=pd.read_excel('D:\\Advertising Budget and Sales.xlsx');"
   ]
  },
  {
   "cell_type": "markdown",
   "id": "a72eb0d2",
   "metadata": {},
   "source": [
    "### 2. Analyze the dataset."
   ]
  },
  {
   "cell_type": "code",
   "execution_count": 3,
   "id": "f852876f",
   "metadata": {},
   "outputs": [
    {
     "data": {
      "text/html": [
       "<div>\n",
       "<style scoped>\n",
       "    .dataframe tbody tr th:only-of-type {\n",
       "        vertical-align: middle;\n",
       "    }\n",
       "\n",
       "    .dataframe tbody tr th {\n",
       "        vertical-align: top;\n",
       "    }\n",
       "\n",
       "    .dataframe thead th {\n",
       "        text-align: right;\n",
       "    }\n",
       "</style>\n",
       "<table border=\"1\" class=\"dataframe\">\n",
       "  <thead>\n",
       "    <tr style=\"text-align: right;\">\n",
       "      <th></th>\n",
       "      <th>TV Ad Budget ($)</th>\n",
       "      <th>Radio Ad Budget ($)</th>\n",
       "      <th>Newspaper Ad Budget ($)</th>\n",
       "      <th>Sales ($)</th>\n",
       "    </tr>\n",
       "  </thead>\n",
       "  <tbody>\n",
       "    <tr>\n",
       "      <th>0</th>\n",
       "      <td>230.1</td>\n",
       "      <td>37.8</td>\n",
       "      <td>69.2</td>\n",
       "      <td>22.1</td>\n",
       "    </tr>\n",
       "    <tr>\n",
       "      <th>1</th>\n",
       "      <td>44.5</td>\n",
       "      <td>39.3</td>\n",
       "      <td>45.1</td>\n",
       "      <td>10.4</td>\n",
       "    </tr>\n",
       "    <tr>\n",
       "      <th>2</th>\n",
       "      <td>17.2</td>\n",
       "      <td>45.9</td>\n",
       "      <td>69.3</td>\n",
       "      <td>9.3</td>\n",
       "    </tr>\n",
       "    <tr>\n",
       "      <th>3</th>\n",
       "      <td>151.5</td>\n",
       "      <td>41.3</td>\n",
       "      <td>58.5</td>\n",
       "      <td>18.5</td>\n",
       "    </tr>\n",
       "    <tr>\n",
       "      <th>4</th>\n",
       "      <td>180.8</td>\n",
       "      <td>10.8</td>\n",
       "      <td>58.4</td>\n",
       "      <td>12.9</td>\n",
       "    </tr>\n",
       "  </tbody>\n",
       "</table>\n",
       "</div>"
      ],
      "text/plain": [
       "   TV Ad Budget ($)  Radio Ad Budget ($)  Newspaper Ad Budget ($)  Sales ($)\n",
       "0             230.1                 37.8                     69.2       22.1\n",
       "1              44.5                 39.3                     45.1       10.4\n",
       "2              17.2                 45.9                     69.3        9.3\n",
       "3             151.5                 41.3                     58.5       18.5\n",
       "4             180.8                 10.8                     58.4       12.9"
      ]
     },
     "execution_count": 3,
     "metadata": {},
     "output_type": "execute_result"
    }
   ],
   "source": [
    "#View the initial few records of the dataset\n",
    "df.head()"
   ]
  },
  {
   "cell_type": "code",
   "execution_count": 4,
   "id": "b421b59d",
   "metadata": {},
   "outputs": [
    {
     "data": {
      "text/plain": [
       "800"
      ]
     },
     "execution_count": 4,
     "metadata": {},
     "output_type": "execute_result"
    }
   ],
   "source": [
    "#Check the total number of elements in the dataset\n",
    "df.size"
   ]
  },
  {
   "cell_type": "markdown",
   "id": "f31a8ef6",
   "metadata": {},
   "source": [
    "### 3. Find the features or media channels used by the firm."
   ]
  },
  {
   "cell_type": "code",
   "execution_count": 5,
   "id": "f7113ce9",
   "metadata": {},
   "outputs": [
    {
     "data": {
      "text/plain": [
       "(200, 4)"
      ]
     },
     "execution_count": 5,
     "metadata": {},
     "output_type": "execute_result"
    }
   ],
   "source": [
    "#Check the number of observations (rows) and attributes (columns) in the dataset\n",
    "df.shape"
   ]
  },
  {
   "cell_type": "code",
   "execution_count": 6,
   "id": "66083ae9",
   "metadata": {},
   "outputs": [
    {
     "data": {
      "text/plain": [
       "Index(['TV Ad Budget ($)', 'Radio Ad Budget ($)', 'Newspaper Ad Budget ($)',\n",
       "       'Sales ($)'],\n",
       "      dtype='object')"
      ]
     },
     "execution_count": 6,
     "metadata": {},
     "output_type": "execute_result"
    }
   ],
   "source": [
    "#View the names of each of the attributes\n",
    "df.columns"
   ]
  },
  {
   "cell_type": "markdown",
   "id": "a0b4b9c1",
   "metadata": {},
   "source": [
    "### 4: Create objects to train and test the model; find the sales figures for each channel."
   ]
  },
  {
   "cell_type": "code",
   "execution_count": 7,
   "id": "02be4253",
   "metadata": {},
   "outputs": [],
   "source": [
    "#Create a feature object from the columns\n",
    "x_feature = df[['Newspaper Ad Budget ($)','Radio Ad Budget ($)','TV Ad Budget ($)']]"
   ]
  },
  {
   "cell_type": "code",
   "execution_count": 8,
   "id": "122ba3dc",
   "metadata": {},
   "outputs": [
    {
     "data": {
      "text/html": [
       "<div>\n",
       "<style scoped>\n",
       "    .dataframe tbody tr th:only-of-type {\n",
       "        vertical-align: middle;\n",
       "    }\n",
       "\n",
       "    .dataframe tbody tr th {\n",
       "        vertical-align: top;\n",
       "    }\n",
       "\n",
       "    .dataframe thead th {\n",
       "        text-align: right;\n",
       "    }\n",
       "</style>\n",
       "<table border=\"1\" class=\"dataframe\">\n",
       "  <thead>\n",
       "    <tr style=\"text-align: right;\">\n",
       "      <th></th>\n",
       "      <th>Newspaper Ad Budget ($)</th>\n",
       "      <th>Radio Ad Budget ($)</th>\n",
       "      <th>TV Ad Budget ($)</th>\n",
       "    </tr>\n",
       "  </thead>\n",
       "  <tbody>\n",
       "    <tr>\n",
       "      <th>0</th>\n",
       "      <td>69.2</td>\n",
       "      <td>37.8</td>\n",
       "      <td>230.1</td>\n",
       "    </tr>\n",
       "    <tr>\n",
       "      <th>1</th>\n",
       "      <td>45.1</td>\n",
       "      <td>39.3</td>\n",
       "      <td>44.5</td>\n",
       "    </tr>\n",
       "    <tr>\n",
       "      <th>2</th>\n",
       "      <td>69.3</td>\n",
       "      <td>45.9</td>\n",
       "      <td>17.2</td>\n",
       "    </tr>\n",
       "    <tr>\n",
       "      <th>3</th>\n",
       "      <td>58.5</td>\n",
       "      <td>41.3</td>\n",
       "      <td>151.5</td>\n",
       "    </tr>\n",
       "    <tr>\n",
       "      <th>4</th>\n",
       "      <td>58.4</td>\n",
       "      <td>10.8</td>\n",
       "      <td>180.8</td>\n",
       "    </tr>\n",
       "  </tbody>\n",
       "</table>\n",
       "</div>"
      ],
      "text/plain": [
       "   Newspaper Ad Budget ($)  Radio Ad Budget ($)  TV Ad Budget ($)\n",
       "0                     69.2                 37.8             230.1\n",
       "1                     45.1                 39.3              44.5\n",
       "2                     69.3                 45.9              17.2\n",
       "3                     58.5                 41.3             151.5\n",
       "4                     58.4                 10.8             180.8"
      ]
     },
     "execution_count": 8,
     "metadata": {},
     "output_type": "execute_result"
    }
   ],
   "source": [
    "#View the feature object\n",
    "x_feature.head()"
   ]
  },
  {
   "cell_type": "code",
   "execution_count": 10,
   "id": "ee11f289",
   "metadata": {},
   "outputs": [],
   "source": [
    "#Create a target object (Hint: use the sales column as it is the response of the dataset)\n",
    "y_target = df[['Sales ($)']]"
   ]
  },
  {
   "cell_type": "code",
   "execution_count": 11,
   "id": "ab2bddef",
   "metadata": {},
   "outputs": [
    {
     "data": {
      "text/html": [
       "<div>\n",
       "<style scoped>\n",
       "    .dataframe tbody tr th:only-of-type {\n",
       "        vertical-align: middle;\n",
       "    }\n",
       "\n",
       "    .dataframe tbody tr th {\n",
       "        vertical-align: top;\n",
       "    }\n",
       "\n",
       "    .dataframe thead th {\n",
       "        text-align: right;\n",
       "    }\n",
       "</style>\n",
       "<table border=\"1\" class=\"dataframe\">\n",
       "  <thead>\n",
       "    <tr style=\"text-align: right;\">\n",
       "      <th></th>\n",
       "      <th>Sales ($)</th>\n",
       "    </tr>\n",
       "  </thead>\n",
       "  <tbody>\n",
       "    <tr>\n",
       "      <th>0</th>\n",
       "      <td>22.1</td>\n",
       "    </tr>\n",
       "    <tr>\n",
       "      <th>1</th>\n",
       "      <td>10.4</td>\n",
       "    </tr>\n",
       "    <tr>\n",
       "      <th>2</th>\n",
       "      <td>9.3</td>\n",
       "    </tr>\n",
       "    <tr>\n",
       "      <th>3</th>\n",
       "      <td>18.5</td>\n",
       "    </tr>\n",
       "    <tr>\n",
       "      <th>4</th>\n",
       "      <td>12.9</td>\n",
       "    </tr>\n",
       "  </tbody>\n",
       "</table>\n",
       "</div>"
      ],
      "text/plain": [
       "   Sales ($)\n",
       "0       22.1\n",
       "1       10.4\n",
       "2        9.3\n",
       "3       18.5\n",
       "4       12.9"
      ]
     },
     "execution_count": 11,
     "metadata": {},
     "output_type": "execute_result"
    }
   ],
   "source": [
    "#View the target object\n",
    "y_target.head()"
   ]
  },
  {
   "cell_type": "code",
   "execution_count": 12,
   "id": "fb5a4b5c",
   "metadata": {},
   "outputs": [
    {
     "data": {
      "text/plain": [
       "(200, 3)"
      ]
     },
     "execution_count": 12,
     "metadata": {},
     "output_type": "execute_result"
    }
   ],
   "source": [
    "#Verify if all the observations have been captured in the feature object\n",
    "x_feature.shape"
   ]
  },
  {
   "cell_type": "code",
   "execution_count": 13,
   "id": "5514b5e0",
   "metadata": {},
   "outputs": [
    {
     "data": {
      "text/plain": [
       "(200, 1)"
      ]
     },
     "execution_count": 13,
     "metadata": {},
     "output_type": "execute_result"
    }
   ],
   "source": [
    "#Verify if all the observations have been captured in the target object\n",
    "y_target.shape"
   ]
  },
  {
   "cell_type": "markdown",
   "id": "d18cbc33",
   "metadata": {},
   "source": [
    "### 5. Split the original dataset into training and testing datasets for the model."
   ]
  },
  {
   "cell_type": "code",
   "execution_count": 14,
   "id": "70eb227c",
   "metadata": {},
   "outputs": [],
   "source": [
    "#Split the dataset (by default, 75% is the training data and 25% is the testing data)\n",
    "from sklearn.model_selection import train_test_split\n",
    "x_train , x_test , y_train, y_test = train_test_split(x_feature,y_target,random_state=1)"
   ]
  },
  {
   "cell_type": "code",
   "execution_count": 15,
   "id": "5bb9f195",
   "metadata": {},
   "outputs": [
    {
     "name": "stdout",
     "output_type": "stream",
     "text": [
      "(150, 3)\n",
      "(50, 3)\n",
      "(150, 1)\n",
      "(50, 1)\n"
     ]
    }
   ],
   "source": [
    "#Verify if the training and testing datasets are split correctly (Hint: use the shape() method)\n",
    "print(x_train.shape)\n",
    "print(x_test.shape)\n",
    "print(y_train.shape)\n",
    "print(y_test.shape)"
   ]
  },
  {
   "cell_type": "markdown",
   "id": "4b4969fe",
   "metadata": {},
   "source": [
    "### 6. Create a model to predict the sales outcome."
   ]
  },
  {
   "cell_type": "code",
   "execution_count": 16,
   "id": "e8f8a423",
   "metadata": {},
   "outputs": [
    {
     "data": {
      "text/plain": [
       "LinearRegression()"
      ]
     },
     "execution_count": 16,
     "metadata": {},
     "output_type": "execute_result"
    }
   ],
   "source": [
    "#Create a linear regression model\n",
    "from sklearn.linear_model import LinearRegression\n",
    "linreg = LinearRegression()\n",
    "linreg.fit(x_train,y_train)"
   ]
  },
  {
   "cell_type": "code",
   "execution_count": 17,
   "id": "d7cb9f14",
   "metadata": {},
   "outputs": [
    {
     "name": "stdout",
     "output_type": "stream",
     "text": [
      "[2.87696662]\n",
      "[[0.00345046 0.17915812 0.04656457]]\n"
     ]
    }
   ],
   "source": [
    "#Print the intercept and coefficients \n",
    "print(linreg.intercept_)\n",
    "print(linreg.coef_)"
   ]
  },
  {
   "cell_type": "code",
   "execution_count": 18,
   "id": "c8da30a5",
   "metadata": {},
   "outputs": [
    {
     "data": {
      "text/plain": [
       "array([[21.70910292],\n",
       "       [16.41055243],\n",
       "       [ 7.60955058],\n",
       "       [17.80769552],\n",
       "       [18.6146359 ],\n",
       "       [23.83573998],\n",
       "       [16.32488681],\n",
       "       [13.43225536],\n",
       "       [ 9.17173403],\n",
       "       [17.333853  ],\n",
       "       [14.44479482],\n",
       "       [ 9.83511973],\n",
       "       [17.18797614],\n",
       "       [16.73086831],\n",
       "       [15.05529391],\n",
       "       [15.61434433],\n",
       "       [12.42541574],\n",
       "       [17.17716376],\n",
       "       [11.08827566],\n",
       "       [18.00537501],\n",
       "       [ 9.28438889],\n",
       "       [12.98458458],\n",
       "       [ 8.79950614],\n",
       "       [10.42382499],\n",
       "       [11.3846456 ],\n",
       "       [14.98082512],\n",
       "       [ 9.78853268],\n",
       "       [19.39643187],\n",
       "       [18.18099936],\n",
       "       [17.12807566],\n",
       "       [21.54670213],\n",
       "       [14.69809481],\n",
       "       [16.24641438],\n",
       "       [12.32114579],\n",
       "       [19.92422501],\n",
       "       [15.32498602],\n",
       "       [13.88726522],\n",
       "       [10.03162255],\n",
       "       [20.93105915],\n",
       "       [ 7.44936831],\n",
       "       [ 3.64695761],\n",
       "       [ 7.22020178],\n",
       "       [ 5.9962782 ],\n",
       "       [18.43381853],\n",
       "       [ 8.39408045],\n",
       "       [14.08371047],\n",
       "       [15.02195699],\n",
       "       [20.35836418],\n",
       "       [20.57036347],\n",
       "       [19.60636679]])"
      ]
     },
     "execution_count": 18,
     "metadata": {},
     "output_type": "execute_result"
    }
   ],
   "source": [
    "#Predict the outcome for the testing dataset\n",
    "y_pred =linreg.predict(x_test)\n",
    "y_pred"
   ]
  },
  {
   "cell_type": "markdown",
   "id": "92a7b9e0",
   "metadata": {},
   "source": [
    "### 7. Calculate the Mean Square Error (MSE)."
   ]
  },
  {
   "cell_type": "code",
   "execution_count": 19,
   "id": "7d73f6aa",
   "metadata": {},
   "outputs": [],
   "source": [
    "#Import required libraries for calculating MSE (mean square error)\n",
    "from sklearn import metrics\n",
    "import numpy as np"
   ]
  },
  {
   "cell_type": "code",
   "execution_count": 20,
   "id": "0f4d7b78",
   "metadata": {},
   "outputs": [
    {
     "name": "stdout",
     "output_type": "stream",
     "text": [
      "1.4046514230328948\n"
     ]
    }
   ],
   "source": [
    "#Calculate the MSE\n",
    "print(np.sqrt(metrics.mean_squared_error(y_test,y_pred)))"
   ]
  },
  {
   "cell_type": "code",
   "execution_count": null,
   "id": "506c080a",
   "metadata": {},
   "outputs": [],
   "source": []
  }
 ],
 "metadata": {
  "kernelspec": {
   "display_name": "Python 3 (ipykernel)",
   "language": "python",
   "name": "python3"
  },
  "language_info": {
   "codemirror_mode": {
    "name": "ipython",
    "version": 3
   },
   "file_extension": ".py",
   "mimetype": "text/x-python",
   "name": "python",
   "nbconvert_exporter": "python",
   "pygments_lexer": "ipython3",
   "version": "3.9.12"
  }
 },
 "nbformat": 4,
 "nbformat_minor": 5
}
